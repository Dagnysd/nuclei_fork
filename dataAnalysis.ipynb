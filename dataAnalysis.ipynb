{
 "cells": [
  {
   "cell_type": "code",
   "execution_count": 4,
   "metadata": {},
   "outputs": [],
   "source": [
    "import pandas as pd\n",
    "pd.set_option('display.width', 1000)"
   ]
  },
  {
   "cell_type": "code",
   "execution_count": 5,
   "metadata": {},
   "outputs": [],
   "source": [
    "file_path = 'test.csv'\n",
    "\n",
    "# Read the CSV file into a pandas DataFrame\n",
    "df = pd.read_csv(file_path)"
   ]
  },
  {
   "cell_type": "code",
   "execution_count": 6,
   "metadata": {},
   "outputs": [
    {
     "name": "stdout",
     "output_type": "stream",
     "text": [
      "      Label    Area      CellType  Location  Ch1Intensity  Ch2Intensity  Ch3Intensity  Ch4Intensity\n",
      "235     236  2379.0  neunPositive       NaN     74.575452      1.864229     75.302648     40.087432\n",
      "352     353  2580.0  neunPositive       NaN     72.973256     11.039535    146.908527     25.118992\n",
      "362     363  2504.0  neunPositive       NaN     71.832668      0.677316     69.017572     50.143371\n",
      "363     364  2578.0  neunPositive       NaN     91.907680      0.691621     40.397207     39.263382\n",
      "427     428  1822.0  neunPositive       NaN     59.320527      0.827662     76.763996     55.396268\n",
      "...     ...     ...           ...       ...           ...           ...           ...           ...\n",
      "7314   7315  1415.0  neunPositive       NaN     72.602120      0.640989     77.339929     12.046643\n",
      "7328   7329   456.0  neunPositive       NaN     87.344298      0.861842     37.458333     39.697368\n",
      "7333   7334  1090.0  neunPositive       NaN     66.145872      1.871560     74.162385     37.703670\n",
      "7336   7337   525.0  neunPositive       NaN     75.407619      1.041905     50.419048     52.676190\n",
      "7337   7338   393.0  neunPositive       NaN     83.982188      0.585242     44.753181     30.633588\n",
      "\n",
      "[1161 rows x 8 columns]\n"
     ]
    }
   ],
   "source": [
    "filtered_df = df[df['CellType'] == 'neunPositive']\n",
    "\n",
    "# Print the filtered DataFrame\n",
    "print(filtered_df)"
   ]
  },
  {
   "cell_type": "code",
   "execution_count": 7,
   "metadata": {},
   "outputs": [
    {
     "name": "stdout",
     "output_type": "stream",
     "text": [
      "      Label    Area         CellType  Location  Ch1Intensity  Ch2Intensity  Ch3Intensity  Ch4Intensity\n",
      "0         1  1311.0  neunPositiveLow       NaN     30.109077      0.247902     42.160183     52.469108\n",
      "5         6  1536.0  neunPositiveLow       NaN     32.425781      1.149089    112.718099     49.794922\n",
      "6         7  1879.0  neunPositiveLow       NaN     27.300692      1.951038    102.881852     46.708888\n",
      "13       14  1551.0  neunPositiveLow       NaN     21.855577      3.350097     75.429400     42.937460\n",
      "20       21  1298.0  neunPositiveLow       NaN     35.848228      0.864407     58.943760     45.806626\n",
      "...     ...     ...              ...       ...           ...           ...           ...           ...\n",
      "7329   7330  1002.0  neunPositiveLow       NaN     25.255489      0.367265     94.068862     58.828343\n",
      "7332   7333   687.0  neunPositiveLow       NaN     23.973799      1.161572     45.579330     14.813683\n",
      "7335   7336  1256.0  neunPositiveLow       NaN     38.014331      1.577229    129.460191     36.826433\n",
      "7338   7339  1278.0  neunPositiveLow       NaN     50.751956      0.413928    105.806729     18.309859\n",
      "7340   7341   403.0  neunPositiveLow       NaN     21.796526      0.042184     27.491315     47.404467\n",
      "\n",
      "[2313 rows x 8 columns]\n"
     ]
    }
   ],
   "source": [
    "filtered_df = df[df['CellType'] == 'neunPositiveLow']\n",
    "print(filtered_df)\n",
    "print(len(filtered_df))"
   ]
  }
 ],
 "metadata": {
  "kernelspec": {
   "display_name": "Python 3",
   "language": "python",
   "name": "python3"
  },
  "language_info": {
   "codemirror_mode": {
    "name": "ipython",
    "version": 3
   },
   "file_extension": ".py",
   "mimetype": "text/x-python",
   "name": "python",
   "nbconvert_exporter": "python",
   "pygments_lexer": "ipython3",
   "version": "3.9.18"
  }
 },
 "nbformat": 4,
 "nbformat_minor": 2
}
