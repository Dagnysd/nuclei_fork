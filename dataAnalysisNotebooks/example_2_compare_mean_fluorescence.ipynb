{
 "cells": [
  {
   "cell_type": "markdown",
   "metadata": {},
   "source": [
    "# Example: Compare Mean Fluorescence\n",
    "\n",
    "This notebook demonstrates how to compare the mean fluorescence of a given channel between conditions in an experiment."
   ]
  },
  {
   "cell_type": "markdown",
   "metadata": {},
   "source": [
    "### Import dependencies"
   ]
  },
  {
   "cell_type": "code",
   "execution_count": null,
   "metadata": {},
   "outputs": [],
   "source": [
    "import pandas as pd\n",
    "import seaborn as sns\n",
    "import matplotlib.pyplot as plt\n",
    "from statsmodels.stats.multicomp import MultiComparison\n",
    "pd.set_option('display.width', 2000)"
   ]
  },
  {
   "cell_type": "markdown",
   "metadata": {},
   "source": [
    "### Read csv documents"
   ]
  },
  {
   "cell_type": "code",
   "execution_count": null,
   "metadata": {},
   "outputs": [],
   "source": [
    "nucleus_df = pd.read_csv('nuclei.csv')\n",
    "image_df = pd.read_csv('images.csv')\n"
   ]
  },
  {
   "cell_type": "markdown",
   "metadata": {},
   "source": [
    "### Merge image and nucleus dataframes\n",
    "\n",
    "Merging the dataframes on ImageName such that the background for the channel that we will measure is available for further background subtraction."
   ]
  },
  {
   "cell_type": "code",
   "execution_count": null,
   "metadata": {},
   "outputs": [],
   "source": [
    "merged_df = pd.merge(nucleus_df, image_df[['ImageName','Ch1Background']], on='ImageName')\n",
    "print(merged_df.head())"
   ]
  },
  {
   "cell_type": "markdown",
   "metadata": {},
   "source": [
    "### Subtract background"
   ]
  },
  {
   "cell_type": "code",
   "execution_count": null,
   "metadata": {},
   "outputs": [],
   "source": [
    "mean_ch3_intensity = nucleus_df.groupby(['Condition', 'ImageName'])['Ch1Intensity'].mean().reset_index()\n",
    "merged_ch3 = merged_df.groupby(['Condition','ImageName', 'Ch1Background'])['Ch1Intensity'].mean().reset_index()\n",
    "merged_ch3['BackgroundSubtracted'] = merged_ch3['Ch1Intensity'] - merged_ch3['Ch1Background']"
   ]
  },
  {
   "cell_type": "markdown",
   "metadata": {},
   "source": [
    "### Visualize results"
   ]
  },
  {
   "cell_type": "code",
   "execution_count": null,
   "metadata": {},
   "outputs": [],
   "source": [
    "order =['Sham', 'Contra', 'Ipsi']\n",
    "\n",
    "palette = sns.color_palette(['royalblue'], 2)\n",
    "boxplot = sns.boxplot(data=merged_ch3, showfliers = False, x='Condition', y='BackgroundSubtracted', hue= 'Condition',order=order, palette='Set3')\n",
    "stripplot = sns.stripplot(data=merged_ch3, x='Condition', y='BackgroundSubtracted', order=order, dodge=True, color='royalblue', alpha=0.7)\n",
    "handles, labels = boxplot.get_legend_handles_labels()\n",
    "\n",
    "plt.ylabel('Channel 1 fluroescence')\n",
    "\n",
    "plt.show()"
   ]
  },
  {
   "cell_type": "markdown",
   "metadata": {},
   "source": [
    "### Statistical analysis\n",
    "\n",
    "A one way ANOVA is conducted followed by post-hoc testing."
   ]
  },
  {
   "cell_type": "code",
   "execution_count": null,
   "metadata": {},
   "outputs": [],
   "source": [
    "from scipy.stats import f_oneway\n",
    "from statsmodels.stats.multicomp import pairwise_tukeyhsd\n",
    "\n",
    "\n",
    "# Perform ANOVA test on filtered data\n",
    "anova_results = f_oneway(merged_ch3[merged_ch3['Condition'] == 'Contra']['BackgroundSubtracted'],\n",
    "                         merged_ch3[merged_ch3['Condition'] == 'Ipsi']['BackgroundSubtracted'],\n",
    "                         merged_ch3[merged_ch3['Condition'] == 'Sham']['BackgroundSubtracted'])\n",
    "\n",
    "# Perform Tukey HSD post hoc test\n",
    "tukey_results = pairwise_tukeyhsd(merged_ch3['BackgroundSubtracted'], merged_ch3['Condition'])\n",
    "\n",
    "print(\"ANOVA Results:\")\n",
    "print(\"F-statistic:\", anova_results.statistic)\n",
    "print(\"p-value:\", anova_results.pvalue)\n",
    "\n",
    "print(\"\\nTukey HSD Results:\")\n",
    "print(tukey_results)"
   ]
  }
 ],
 "metadata": {
  "kernelspec": {
   "display_name": "naparienv2",
   "language": "python",
   "name": "python3"
  },
  "language_info": {
   "codemirror_mode": {
    "name": "ipython",
    "version": 3
   },
   "file_extension": ".py",
   "mimetype": "text/x-python",
   "name": "python",
   "nbconvert_exporter": "python",
   "pygments_lexer": "ipython3",
   "version": "3.9.19"
  },
  "vscode": {
   "interpreter": {
    "hash": "42e6a65aaed901ceea65151505639f0cb2b61095480c1a584a8cc7fb0db430c9"
   }
  }
 },
 "nbformat": 4,
 "nbformat_minor": 2
}
