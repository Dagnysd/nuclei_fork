{
 "cells": [
  {
   "cell_type": "code",
   "execution_count": null,
   "metadata": {},
   "outputs": [],
   "source": [
    "import pandas as pd\n",
    "import seaborn as sns\n",
    "import matplotlib.pyplot as plt\n",
    "from statsmodels.stats.multicomp import MultiComparison\n",
    "pd.set_option('display.width', 2000)\n",
    "from utils import readImage\n",
    "import numpy as np"
   ]
  },
  {
   "cell_type": "code",
   "execution_count": null,
   "metadata": {},
   "outputs": [],
   "source": [
    "\n",
    "nucleus_df = pd.read_csv('csv/nuclei.csv')\n",
    "\n",
    "regions_df = nucleus_df[(nucleus_df['Location'] != 'Undefined')]\n",
    "print(regions_df)"
   ]
  },
  {
   "cell_type": "code",
   "execution_count": null,
   "metadata": {},
   "outputs": [],
   "source": [
    "fluo_df = regions_df.groupby(['ImageName', 'Condition', 'Location'])['Ch1Intensity'].mean().reset_index()\n",
    "pd.set_option('display.max_colwidth', None)\n",
    "\n",
    "print(fluo_df)\n",
    "palette = sns.color_palette(['royalblue'], 2)\n",
    "boxplot = sns.boxplot(data=fluo_df, x='Location', y='Ch1Intensity', hue='Condition', showfliers = False, hue_order=['Sham', 'Contra', 'Ipsi'], palette='Set3')\n",
    "sns.stripplot(data=fluo_df, x='Location', y='Ch1Intensity', hue='Condition', hue_order=['Sham', 'Contra', 'Ipsi'], dodge=True, palette=palette, alpha=0.7)\n",
    "handles, labels = boxplot.get_legend_handles_labels()\n",
    "\n",
    "# Create custom legend\n",
    "plt.legend(handles=handles[:3], labels=labels[:3])\n",
    "plt.ylim(0,65)\n",
    "plt.ylabel('NeuN Fluorescence')\n",
    "plt.savefig('neuN_fluo_by_region.pdf')\n",
    "plt.show()"
   ]
  },
  {
   "cell_type": "code",
   "execution_count": null,
   "metadata": {},
   "outputs": [],
   "source": [
    "from scipy.stats import f_oneway\n",
    "from statsmodels.stats.multicomp import pairwise_tukeyhsd\n",
    "\n",
    "for region in fluo_df['Location'].unique():\n",
    "    df = fluo_df[fluo_df['Location'] == region]\n",
    "    print(region)\n",
    "    anova_results = f_oneway(df[df['Condition'] == 'Contra']['Ch1Intensity'],\n",
    "                            df[df['Condition'] == 'Ipsi']['Ch1Intensity'],\n",
    "                            df[df['Condition'] == 'Sham']['Ch1Intensity'])\n",
    "\n",
    "    # Perform Tukey HSD post hoc test\n",
    "    tukey_results = pairwise_tukeyhsd(df['Ch1Intensity'], df['Condition'])\n",
    "\n",
    "    print(\"ANOVA Results:\")\n",
    "    print(\"F-statistic:\", anova_results.statistic)\n",
    "    print(\"p-value:\", anova_results.pvalue)\n",
    "\n",
    "    print(\"\\nTukey HSD Results:\")\n",
    "    print(tukey_results)"
   ]
  },
  {
   "cell_type": "code",
   "execution_count": null,
   "metadata": {},
   "outputs": [],
   "source": [
    "\n",
    "# Now, you can group by the specified columns and count the occurrences\n",
    "neuron_counts = regions_df.groupby(['Location', 'Condition', 'ImageName', 'CellType']).size().reset_index(name='Nuclei')"
   ]
  },
  {
   "cell_type": "code",
   "execution_count": null,
   "metadata": {},
   "outputs": [],
   "source": [
    "locations = neuron_counts['Location'].unique()\n",
    "\n",
    "# Loop through each location\n",
    "for location in locations:\n",
    "    # Filter dataframe for the current location\n",
    "    subset_df = neuron_counts[neuron_counts['Location'] == location]\n",
    "    x_order = ['Undefined', 'neunPositiveLow', 'neunPositive']\n",
    "    hue_order = ['Sham', 'Contra', 'Ipsi']\n",
    "    \n",
    "    # Create the boxplot\n",
    "    plt.figure(figsize=(10, 6))  # Adjust size if needed\n",
    "    sns.boxplot(data=subset_df, x='CellType', y='Nuclei', hue='Condition', hue_order=hue_order, order=x_order, palette='Set3')\n",
    "    \n",
    "    # Set labels and title\n",
    "    plt.xlabel('Cell Type')\n",
    "    plt.ylabel('Nuclei')\n",
    "    plt.title(f'Boxplot of Nuclei Counts by Cell Type and Condition for Location {location}')\n",
    "    \n",
    "    # Rotate x-axis labels for better visibility if needed\n",
    "    plt.xticks(rotation=45)\n",
    "    \n",
    "    # Show the plot\n",
    "    plt.legend(title='Condition')  # Add legend title\n",
    "    plt.tight_layout()  # Adjust layout to prevent clipping of labels\n",
    "    plt.show()"
   ]
  },
  {
   "cell_type": "code",
   "execution_count": null,
   "metadata": {},
   "outputs": [],
   "source": [
    "image_df = pd.read_csv('csv/images.csv')\n",
    "merged_df = pd.merge(neuron_counts, image_df, on='ImageName')\n",
    "\n",
    "# Calculate neuron density for each region\n",
    "merged_df['NeuronDensity'] = merged_df['Nuclei']  # Initialize the column with Nuclei counts\n",
    "merged_df.loc[merged_df['Location'] == 'CA1', 'NeuronDensity'] /= merged_df['CA1Volume']  # Divide by CA1Volume where Location is CA1\n",
    "merged_df.loc[merged_df['Location'] == 'CA3', 'NeuronDensity'] /= merged_df['CA3Volume']  # Divide by CA3Volume where Location is CA3\n",
    "merged_df.loc[merged_df['Location'] == 'DG', 'NeuronDensity'] /= merged_df['DGVolume']    # Divide by DGVolume where Location is DG\n",
    "merged_df['NeuronDensity'] *= 10**6\n",
    "# If you want to round the density to a specific number of decimal places\n",
    "# merged_df['NeuronDensity'] = merged_df['NeuronDensity'].round(decimals=2)\n",
    "\n",
    "# Display the resulting dataframe\n",
    "print(merged_df)\n"
   ]
  },
  {
   "cell_type": "code",
   "execution_count": null,
   "metadata": {},
   "outputs": [],
   "source": [
    "#print(merged_df[(merged_df['CellType'] != 'Undefined') & (merged_df['Location'] == 'DG')])\n",
    "\n",
    "table_df = merged_df.groupby(['Location', 'Condition_x', 'CellType']).agg({\n",
    "    'NeuronDensity': ['mean', 'std']\n",
    "})\n",
    "print(table_df)"
   ]
  },
  {
   "cell_type": "code",
   "execution_count": null,
   "metadata": {},
   "outputs": [],
   "source": [
    "palette = sns.color_palette(['royalblue'], 2)\n",
    "for location in locations:\n",
    "    # Filter dataframe for the current location\n",
    "    subset_df = merged_df[merged_df['Location'] == location]\n",
    "    x_order = ['Undefined', 'neunPositiveLow', 'neunPositive']\n",
    "    hue_order = ['Sham', 'Contra', 'Ipsi']\n",
    "    \n",
    "    # Create the boxplot\n",
    "    plt.figure(figsize=(8, 6))  # Adjust size if needed\n",
    "    boxplot = sns.boxplot(data=subset_df, x='CellType', y='NeuronDensity', showfliers=False, hue='Condition_x', hue_order=hue_order, order=x_order, palette='Set3')\n",
    "    stripplot = sns.stripplot(data=subset_df, x='CellType', y='NeuronDensity',order = x_order, hue='Condition_x', hue_order=hue_order, dodge=True, palette=palette, alpha=0.7)\n",
    "    # Set labels and title\n",
    "    plt.xlabel('')\n",
    "    plt.ylabel('Nuclei / 100 \\u03bcm^3')\n",
    "    #plt.title(location)\n",
    "    \n",
    "    # Rotate x-axis labels for better visibility if needed\n",
    "    #plt.xticks(rotation=45)\n",
    "    \n",
    "    handles, labels = boxplot.get_legend_handles_labels()\n",
    "\n",
    "    # Create custom legend\n",
    "    plt.legend(handles=handles[:3], labels=labels[:3])\n",
    "    plt.tight_layout()  # Adjust layout to prevent clipping of labels\n",
    "    name = f\"plots/{location}_neurons_volume_v2.pdf\"\n",
    "    #plt.savefig(name)\n",
    "    plt.show()"
   ]
  },
  {
   "cell_type": "code",
   "execution_count": null,
   "metadata": {},
   "outputs": [],
   "source": [
    "grouped_df = nucleus_df.groupby(['ImageName', 'Condition', 'CellType'])['Ch1Intensity'].median().reset_index()\n",
    "print(grouped_df)\n",
    "\n",
    "plt.figure(figsize=(8, 6))\n",
    "sns.boxplot(data=grouped_df, x= 'CellType', y='Ch1Intensity', hue='Condition',showfliers=False, hue_order=hue_order, order=x_order, palette='Set3')\n",
    "sns.stripplot(data=grouped_df, x= 'CellType', y='Ch1Intensity', hue='Condition', hue_order=hue_order, order=x_order, dodge=True, palette=palette, alpha=0.7)\n",
    "plt.xlabel('')\n",
    "plt.ylabel('NeuN fluorescence')\n",
    "plt.legend().set_visible(False)\n",
    "plt.tight_layout()\n",
    "#plt.savefig('plots/neuN_median_clusters.pdf')\n",
    "plt.show()\n"
   ]
  },
  {
   "cell_type": "code",
   "execution_count": null,
   "metadata": {},
   "outputs": [],
   "source": [
    "img_name = 'Sham 1 Contralateral Mouse 6 Slide15 G4green NeuNpink CD86red 40x 5x4 technical replica 2.lsm' # 'Enter name of image as it appears in nucleus_df'\n",
    "img_path = 'D:/Users\\Jonas/nuclei\\imagesAndMasks\\images_sham\\Sham 1 Contralateral Mouse 6 Slide15 G4green NeuNpink CD86red 40x 5x4 technical replica 2.lsm' # 'Path to same image'\n",
    "\n",
    "neu_df = nucleus_df[nucleus_df['CellType'] == 'neunPositive']\n",
    "neuLow_df = nucleus_df[nucleus_df['CellType'] == 'neunPositiveLow']\n",
    "undef_df = nucleus_df[nucleus_df['CellType'] == 'Undefined']\n",
    "img_neu_df = neu_df[neu_df['ImageName'] == img_name]\n",
    "img_neuLow_df = neuLow_df[neuLow_df['ImageName'] == img_name]\n",
    "img_undef_df = undef_df[undef_df['ImageName'] == img_name]\n",
    "\n",
    "centroids_neu = img_neu_df['Centroid'].apply(eval)\n",
    "centroids_neuLow = img_neuLow_df['Centroid'].apply(eval)\n",
    "centroids_undef = img_undef_df['Centroid'].apply(eval)\n",
    "\n",
    "# Convert centroids to a NumPy array\n",
    "centroids_neu_array = np.array(centroids_neu.tolist())  # Transpose the array to get the desired shape\n",
    "centroids_neuLow_array = np.array(centroids_neuLow.tolist())\n",
    "centroids_undef_array = np.array(centroids_undef.tolist())\n",
    "\n",
    "from skimage import io\n",
    "import napari\n",
    "img= readImage(img_path)\n",
    "\n",
    "viewer = napari.view_image(img, scale =([0.9278, 0.3459, 0.3459]), channel_axis=3 )\n",
    "viewer.add_points(centroids_neu_array, size=10, symbol='cross', edge_color='blue', face_color='blue', name='NeuN positive', scale=([0.9278, 0.3459, 0.3459]))\n",
    "viewer.add_points(centroids_neuLow_array, size=10, symbol='cross', edge_color='green', face_color='green', name='NeuN Low', scale=([0.9278, 0.3459, 0.3459]))\n",
    "viewer.add_points(centroids_undef_array, size=10, symbol='cross', edge_color='yellow', face_color='yellow', name='NeuN negative', scale=([0.9278, 0.3459, 0.3459]))\n",
    "napari.run()"
   ]
  },
  {
   "cell_type": "code",
   "execution_count": null,
   "metadata": {},
   "outputs": [],
   "source": [
    "from scipy.stats import f_oneway\n",
    "from scipy.stats import friedmanchisquare\n",
    "\n",
    "anova_results = {}\n",
    "tukey_results = {}\n",
    "\n",
    "for region in merged_df['Location'].unique():\n",
    "    for cell_type in merged_df['CellType'].unique():\n",
    "        type_data = [merged_df[(merged_df['CellType'] == cell_type) & (merged_df['Condition_x'] == condition) & (merged_df['Location'] == region)]['NeuronDensity'] for condition in merged_df['Condition_x'].unique()]\n",
    "        anova_results[cell_type] = f_oneway(*type_data)\n",
    "        \n",
    "        print(f\"ANOVA results for {cell_type} in {region}: {anova_results[cell_type]}\")\n",
    "        \n",
    "        # Perform Tukey's HSD test for each class of neuron\n",
    "        mc = MultiComparison(merged_df[(merged_df['CellType'] == cell_type) & (merged_df['Location'] == region)]['NeuronDensity'], merged_df[(merged_df['CellType'] == cell_type) & (merged_df['Location'] == region)]['Condition_x'])\n",
    "        tukey_results[cell_type] = mc.tukeyhsd()\n",
    "        print(f\"Tukey's HSD results for {cell_type} in {region}:\\n{tukey_results[cell_type]}\")\n",
    "\n"
   ]
  },
  {
   "cell_type": "code",
   "execution_count": null,
   "metadata": {},
   "outputs": [],
   "source": [
    "undefined_df = nucleus_df[(nucleus_df['CellType'] == 'Undefined')]\n",
    "print(undefined_df)"
   ]
  },
  {
   "cell_type": "code",
   "execution_count": null,
   "metadata": {},
   "outputs": [],
   "source": [
    "non_neuron_counts = undefined_df.groupby(['Condition', 'ImageName']).size().reset_index(name='NonNuclei')\n",
    "print(non_neuron_counts)"
   ]
  },
  {
   "cell_type": "code",
   "execution_count": null,
   "metadata": {},
   "outputs": [],
   "source": [
    "x_order = ['Sham', 'Contra', 'Ipsi']\n",
    "plt.figure(figsize=(8, 6))  # Adjust size if needed\n",
    "sns.boxplot(data=non_neuron_counts, x='Condition', y='NonNuclei', order=x_order, palette='Set3')\n",
    "#plt.savefig(\"plots/nonNeuronsWholeImage.pdf\")\n",
    "plt.show()"
   ]
  },
  {
   "cell_type": "code",
   "execution_count": null,
   "metadata": {},
   "outputs": [],
   "source": [
    "sham_data = non_neuron_counts[non_neuron_counts['Condition'] == 'Sham']['NonNuclei']\n",
    "contra_data = non_neuron_counts[non_neuron_counts['Condition'] == 'Contra']['NonNuclei']\n",
    "ipsi_data = non_neuron_counts[non_neuron_counts['Condition'] == 'Ipsi']['NonNuclei']\n",
    "\n",
    "# Perform ANOVA\n",
    "f_statistic, p_value = f_oneway(sham_data, contra_data, ipsi_data)\n",
    "\n",
    "print(\"F-statistic:\", f_statistic)\n",
    "print(\"p-value:\", p_value)"
   ]
  },
  {
   "cell_type": "code",
   "execution_count": null,
   "metadata": {},
   "outputs": [],
   "source": [
    "undefined_df2 = undefined_df[undefined_df['Location'] != 'Undefined']\n",
    "\n",
    "non_neuron_counts = undefined_df2.groupby(['Condition', 'ImageName']).size().reset_index(name='NonNeurons')\n",
    "print(non_neuron_counts)"
   ]
  },
  {
   "cell_type": "code",
   "execution_count": null,
   "metadata": {},
   "outputs": [],
   "source": [
    "plt.figure(figsize=(8, 6))  # Adjust size if needed\n",
    "sns.boxplot(data=non_neuron_counts, x='Condition', y='NonNeurons', order=x_order, palette='Set3')\n",
    "#plt.savefig(\"plots/nonNeuronsInROIS.pdf\")\n",
    "plt.show()"
   ]
  },
  {
   "cell_type": "code",
   "execution_count": null,
   "metadata": {},
   "outputs": [],
   "source": [
    "sham_data = non_neuron_counts[non_neuron_counts['Condition'] == 'Sham']['NonNuclei']\n",
    "contra_data = non_neuron_counts[non_neuron_counts['Condition'] == 'Contra']['NonNuclei']\n",
    "ipsi_data = non_neuron_counts[non_neuron_counts['Condition'] == 'Ipsi']['NonNuclei']\n",
    "\n",
    "# Perform ANOVA\n",
    "f_statistic, p_value = f_oneway(sham_data, contra_data, ipsi_data)\n",
    "\n",
    "print(\"F-statistic:\", f_statistic)\n",
    "print(\"p-value:\", p_value)"
   ]
  }
 ],
 "metadata": {
  "kernelspec": {
   "display_name": "naparienv2",
   "language": "python",
   "name": "python3"
  },
  "language_info": {
   "codemirror_mode": {
    "name": "ipython",
    "version": 3
   },
   "file_extension": ".py",
   "mimetype": "text/x-python",
   "name": "python",
   "nbconvert_exporter": "python",
   "pygments_lexer": "ipython3",
   "version": "3.9.18"
  },
  "vscode": {
   "interpreter": {
    "hash": "42e6a65aaed901ceea65151505639f0cb2b61095480c1a584a8cc7fb0db430c9"
   }
  }
 },
 "nbformat": 4,
 "nbformat_minor": 2
}
