{
 "cells": [
  {
   "cell_type": "markdown",
   "metadata": {},
   "source": [
    "# Measure densities of different cell types\n",
    "\n",
    "This example demonstrates how to classify nuclei into one of three classes and calculate the density of each type of nuclei in every ROI marked in an image. \n",
    "\n",
    "### Import dependencies"
   ]
  },
  {
   "cell_type": "code",
   "execution_count": null,
   "metadata": {},
   "outputs": [],
   "source": [
    "import pandas as pd\n",
    "import seaborn as sns\n",
    "import matplotlib.pyplot as plt\n",
    "from statsmodels.stats.multicomp import MultiComparison\n",
    "pd.set_option('display.width', 2000)\n",
    "from utils import readImage\n",
    "import numpy as np\n",
    "from sklearn.cluster import KMeans"
   ]
  },
  {
   "cell_type": "markdown",
   "metadata": {},
   "source": [
    "### Read dataframes"
   ]
  },
  {
   "cell_type": "code",
   "execution_count": null,
   "metadata": {},
   "outputs": [],
   "source": [
    "\n",
    "nucleus_df = pd.read_csv('nuclei.csv')\n",
    "image_df = pd.read_csv('images.csv')"
   ]
  },
  {
   "cell_type": "markdown",
   "metadata": {},
   "source": [
    "### Clustering\n",
    "Cluster nuclei into one of three clusters based on Ch1Intensity"
   ]
  },
  {
   "cell_type": "code",
   "execution_count": null,
   "metadata": {},
   "outputs": [],
   "source": [
    "channel_key = 'Ch1Intensity'\n",
    "nucleus_df['Cluster_Label'] = np.nan\n",
    "num_clusters = 3\n",
    "\n",
    "for name in nucleus_df['ImageName'].unique():\n",
    "    df = nucleus_df[nucleus_df['ImageName'] == name]\n",
    "    intensity_values = df[channel_key].values.reshape(-1, 1)\n",
    "    kmeans = KMeans(n_clusters=num_clusters, random_state=42, n_init=\"auto\")\n",
    "    clusters = kmeans.fit_predict(intensity_values)\n",
    "    \n",
    "    sorted_cluster_indices = np.argsort(kmeans.cluster_centers_.flatten())\n",
    "    cluster_mapping = {old_label: new_label for new_label, old_label in enumerate(sorted_cluster_indices)}\n",
    "    \n",
    "    cluster_labels = np.array([cluster_mapping[label] for label in clusters])\n",
    "    nucleus_df.loc[df.index, 'Cluster_Label'] = cluster_labels\n",
    "\n",
    "# Assign cell types based on the new consistent cluster labels\n",
    "nucleus_df.loc[nucleus_df['Cluster_Label'] == 2.0, 'CellType'] = 'Neuron'\n",
    "nucleus_df.loc[nucleus_df['Cluster_Label'] == 1.0, 'CellType'] = 'NeuronLow'\n",
    "nucleus_df.loc[nucleus_df['Cluster_Label'] == 0.0, 'CellType'] = 'Undefined'\n",
    "\n",
    "# Print the counts of each cell type\n",
    "\n",
    "# Drop the Cluster_Label column\n",
    "nucleus_df.drop(columns=['Cluster_Label'], inplace=True)"
   ]
  },
  {
   "cell_type": "markdown",
   "metadata": {},
   "source": [
    "### Calculate densities\n",
    "\n",
    "- Filter out nuclei outside of the regions of interest and merge neuron and image dataframes.\n",
    "- Calculate densities"
   ]
  },
  {
   "cell_type": "code",
   "execution_count": null,
   "metadata": {},
   "outputs": [],
   "source": [
    "regions_df = nucleus_df[nucleus_df['Location'] != 'Undefined']\n",
    "neuron_counts = regions_df.groupby(['Location', 'Condition', 'ImageName', 'CellType']).size().reset_index(name='Nuclei')\n",
    "merged_df = pd.merge(neuron_counts, image_df, on='ImageName')\n",
    "\n",
    "# Calculate neuron density for each region\n",
    "merged_df['NeuronDensity'] = merged_df['Nuclei']  # Initialize the column with Nuclei counts\n",
    "merged_df.loc[merged_df['Location'] == 'CA1', 'NeuronDensity'] /= merged_df['CA1Volume']  # Divide by CA1Volume where Location is CA1\n",
    "merged_df.loc[merged_df['Location'] == 'CA3', 'NeuronDensity'] /= merged_df['CA3Volume']  # Divide by CA3Volume where Location is CA3\n",
    "merged_df.loc[merged_df['Location'] == 'DG', 'NeuronDensity'] /= merged_df['DGVolume']    # Divide by DGVolume where Location is DG\n",
    "merged_df['NeuronDensity'] *= 10**6\n",
    "\n",
    "print(merged_df.head())\n"
   ]
  },
  {
   "cell_type": "markdown",
   "metadata": {},
   "source": [
    "### Visualize results\n",
    "\n",
    "Visualize first as a table"
   ]
  },
  {
   "cell_type": "code",
   "execution_count": null,
   "metadata": {},
   "outputs": [],
   "source": [
    "#print(merged_df[(merged_df['CellType'] != 'Undefined') & (merged_df['Location'] == 'DG')])\n",
    "\n",
    "table_df = merged_df.groupby(['Location', 'Condition_x', 'CellType']).agg({\n",
    "    'NeuronDensity': ['mean', 'std']\n",
    "})\n",
    "print(table_df)"
   ]
  },
  {
   "cell_type": "markdown",
   "metadata": {},
   "source": [
    "Then as a set of boxplots"
   ]
  },
  {
   "cell_type": "code",
   "execution_count": null,
   "metadata": {},
   "outputs": [],
   "source": [
    "palette = sns.color_palette(['royalblue'], 2)\n",
    "for location in merged_df['Location'].unique():\n",
    "    # Filter dataframe for the current location\n",
    "    subset_df = merged_df[merged_df['Location'] == location]\n",
    "    x_order = ['Undefined', 'NeuronLow', 'Neuron']\n",
    "    hue_order = ['Sham', 'Contra', 'Ipsi']\n",
    "    \n",
    "    # Create the boxplot\n",
    "    plt.figure(figsize=(8, 6))  # Adjust size if needed\n",
    "    boxplot = sns.boxplot(data=subset_df, x='CellType', y='NeuronDensity', showfliers=False, hue='Condition_x', hue_order=hue_order, order=x_order, palette='Set3')\n",
    "    stripplot = sns.stripplot(data=subset_df, x='CellType', y='NeuronDensity',order = x_order, hue='Condition_x', hue_order=hue_order, dodge=True, palette=palette, alpha=0.7)\n",
    "    # Set labels and title\n",
    "    plt.xlabel('')\n",
    "    plt.ylabel('Nuclei / 100 \\u03bcm^3')\n",
    "    #plt.title(location)\n",
    "    \n",
    "    # Rotate x-axis labels for better visibility if needed\n",
    "    #plt.xticks(rotation=45)\n",
    "    \n",
    "    handles, labels = boxplot.get_legend_handles_labels()\n",
    "\n",
    "    # Create custom legend\n",
    "    plt.legend(handles=handles[:3], labels=labels[:3])\n",
    "    plt.tight_layout()  # Adjust layout to prevent clipping of labels\n",
    "    name = f\"plots/{location}_neurons_volume_v2.pdf\"\n",
    "    #plt.savefig(name)\n",
    "    plt.show()"
   ]
  },
  {
   "cell_type": "markdown",
   "metadata": {},
   "source": [
    "### Statistical analysis\n",
    "\n",
    "Conduct a one way ANOVA for each hippocampal region followed by post-hoc testing"
   ]
  },
  {
   "cell_type": "code",
   "execution_count": null,
   "metadata": {},
   "outputs": [],
   "source": [
    "from scipy.stats import f_oneway\n",
    "from scipy.stats import friedmanchisquare\n",
    "\n",
    "anova_results = {}\n",
    "tukey_results = {}\n",
    "\n",
    "for region in merged_df['Location'].unique():\n",
    "    for cell_type in merged_df['CellType'].unique():\n",
    "        type_data = [merged_df[(merged_df['CellType'] == cell_type) & (merged_df['Condition_x'] == condition) & (merged_df['Location'] == region)]['NeuronDensity'] for condition in merged_df['Condition_x'].unique()]\n",
    "        anova_results[cell_type] = f_oneway(*type_data)\n",
    "        \n",
    "        print(f\"ANOVA results for {cell_type} in {region}: {anova_results[cell_type]}\")\n",
    "        \n",
    "        # Perform Tukey's HSD test for each class of neuron\n",
    "        mc = MultiComparison(merged_df[(merged_df['CellType'] == cell_type) & (merged_df['Location'] == region)]['NeuronDensity'], merged_df[(merged_df['CellType'] == cell_type) & (merged_df['Location'] == region)]['Condition_x'])\n",
    "        tukey_results[cell_type] = mc.tukeyhsd()\n",
    "        print(f\"Tukey's HSD results for {cell_type} in {region}:\\n{tukey_results[cell_type]}\")\n",
    "\n"
   ]
  }
 ],
 "metadata": {
  "kernelspec": {
   "display_name": "naparienv2",
   "language": "python",
   "name": "python3"
  },
  "language_info": {
   "codemirror_mode": {
    "name": "ipython",
    "version": 3
   },
   "file_extension": ".py",
   "mimetype": "text/x-python",
   "name": "python",
   "nbconvert_exporter": "python",
   "pygments_lexer": "ipython3",
   "version": "3.9.19"
  },
  "vscode": {
   "interpreter": {
    "hash": "42e6a65aaed901ceea65151505639f0cb2b61095480c1a584a8cc7fb0db430c9"
   }
  }
 },
 "nbformat": 4,
 "nbformat_minor": 2
}
