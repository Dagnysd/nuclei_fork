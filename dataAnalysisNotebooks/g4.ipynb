{
 "cells": [
  {
   "cell_type": "code",
   "execution_count": 1,
   "metadata": {},
   "outputs": [],
   "source": [
    "import pandas as pd\n",
    "import seaborn as sns\n",
    "import matplotlib.pyplot as plt\n",
    "from statsmodels.stats.multicomp import MultiComparison\n",
    "from scipy.stats import spearmanr, pearsonr\n",
    "pd.set_option('display.width', 2000)"
   ]
  },
  {
   "cell_type": "code",
   "execution_count": 54,
   "metadata": {},
   "outputs": [
    {
     "name": "stdout",
     "output_type": "stream",
     "text": [
      "['DG' 'Undefined' 'CA3']\n"
     ]
    }
   ],
   "source": [
    "nucleus_df = pd.read_csv('csv/nuclei_g4.csv')\n",
    "image_df = pd.read_csv('csv/images_g4.csv')\n",
    "print(nucleus_df['Location'].unique())\n"
   ]
  },
  {
   "cell_type": "code",
   "execution_count": 55,
   "metadata": {},
   "outputs": [
    {
     "name": "stdout",
     "output_type": "stream",
     "text": [
      "       Condition                                          ImageName  Label    Area                                           Centroid      CellType   Location  Ch1Intensity  Ch2Intensity  Ch3Intensity  Ch4Intensity  CytoCh1Intensity  CytoCh2Intensity  CytoCh3Intensity  CytoCh4Intensity  g4Background\n",
      "0         Contra  HI 1 Contralateral Mouse 8 Slide18 G4green Neu...      1  1311.0  (3.887109077040427, 2341.739893211289, 2699.13...  neunPositive         DG     30.109077      0.247902     42.160183     52.469108               NaN               NaN               NaN               NaN     13.994380\n",
      "1         Contra  HI 1 Contralateral Mouse 8 Slide18 G4green Neu...      2  1537.0  (2.652569941444372, 1555.5953155497723, 2999.8...     Undefined         DG     19.577749      0.527001     67.763175     58.642811               NaN               NaN               NaN               NaN     13.994380\n",
      "2         Contra  HI 1 Contralateral Mouse 8 Slide18 G4green Neu...      3  1794.0  (2.4520624303233, 498.8768115942029, 3235.2441...     Undefined  Undefined      2.859532      1.580268     55.962096     79.109253               NaN               NaN               NaN               NaN     13.994380\n",
      "3         Contra  HI 1 Contralateral Mouse 8 Slide18 G4green Neu...      4  1885.0  (2.650397877984085, 99.42334217506631, 947.571...     Undefined  Undefined      4.741645      3.724138     96.416446     40.742175               NaN               NaN               NaN               NaN     13.994380\n",
      "4         Contra  HI 1 Contralateral Mouse 8 Slide18 G4green Neu...      5  1634.0  (2.8225214198286412, 1266.3500611995105, 2527....     Undefined         DG     14.410037      0.391677     47.391677     92.392901               NaN               NaN               NaN               NaN     13.994380\n",
      "...          ...                                                ...    ...     ...                                                ...           ...        ...           ...           ...           ...           ...               ...               ...               ...               ...           ...\n",
      "113263      Sham  Sham 2 Ipsilateral Mouse 7 Slide18 G4green Neu...   6716   259.0  (4.316602316602316, 773.7451737451737, 2486.45...     Undefined         DG      3.447876     10.023166     28.799228     95.698842               NaN               NaN               NaN               NaN      5.994389\n",
      "113264      Sham  Sham 2 Ipsilateral Mouse 7 Slide18 G4green Neu...   6717   352.0  (2.4517045454545454, 3769.5142045454545, 1072....     Undefined  Undefined      3.400568      0.710227      1.153409     10.997159               NaN               NaN               NaN               NaN      5.994389\n",
      "113265      Sham  Sham 2 Ipsilateral Mouse 7 Slide18 G4green Neu...   6718   330.0  (2.8848484848484848, 792.9787878787879, 2300.6...  neunPositive         DG     64.763636     10.193939    110.536364     11.587879               NaN               NaN               NaN               NaN      5.994389\n",
      "113266      Sham  Sham 2 Ipsilateral Mouse 7 Slide18 G4green Neu...   6719   349.0  (1.183381088825215, 2967.3037249283666, 45.593...     Undefined  Undefined      3.295129      5.320917    155.054441     22.495702               NaN               NaN               NaN               NaN      5.994389\n",
      "113267      Sham  Sham 2 Ipsilateral Mouse 7 Slide18 G4green Neu...   6720   853.0  (0.9613130128956624, 2017.6905041031653, 1304....  neunPositive         DG     40.640094      4.956624    163.145369     75.069168               NaN               NaN               NaN               NaN      5.994389\n",
      "\n",
      "[113268 rows x 16 columns]\n",
      "Empty DataFrame\n",
      "Columns: [Condition, ImageName, Label, Area, Centroid, CellType, Location, Ch1Intensity, Ch2Intensity, Ch3Intensity, Ch4Intensity, CytoCh1Intensity, CytoCh2Intensity, CytoCh3Intensity, CytoCh4Intensity]\n",
      "Index: []\n",
      "Empty DataFrame\n",
      "Columns: [Condition, ImageName, Label, Area, Centroid, CellType, Location, Ch1Intensity, Ch2Intensity, Ch3Intensity, Ch4Intensity, CytoCh1Intensity, CytoCh2Intensity, CytoCh3Intensity, CytoCh4Intensity]\n",
      "Index: []\n",
      "       Condition                                          ImageName  Label    Area                                           Centroid      CellType   Location  Ch1Intensity  Ch2Intensity  Ch3Intensity  Ch4Intensity  CytoCh1Intensity  CytoCh2Intensity  CytoCh3Intensity  CytoCh4Intensity\n",
      "0         Contra  HI 1 Contralateral Mouse 8 Slide18 G4green Neu...      1  1311.0  (3.887109077040427, 2341.739893211289, 2699.13...  neunPositive         DG     30.109077      0.247902     42.160183     52.469108               NaN               NaN               NaN               NaN\n",
      "1         Contra  HI 1 Contralateral Mouse 8 Slide18 G4green Neu...      2  1537.0  (2.652569941444372, 1555.5953155497723, 2999.8...     Undefined         DG     19.577749      0.527001     67.763175     58.642811               NaN               NaN               NaN               NaN\n",
      "2         Contra  HI 1 Contralateral Mouse 8 Slide18 G4green Neu...      3  1794.0  (2.4520624303233, 498.8768115942029, 3235.2441...     Undefined  Undefined      2.859532      1.580268     55.962096     79.109253               NaN               NaN               NaN               NaN\n",
      "3         Contra  HI 1 Contralateral Mouse 8 Slide18 G4green Neu...      4  1885.0  (2.650397877984085, 99.42334217506631, 947.571...     Undefined  Undefined      4.741645      3.724138     96.416446     40.742175               NaN               NaN               NaN               NaN\n",
      "4         Contra  HI 1 Contralateral Mouse 8 Slide18 G4green Neu...      5  1634.0  (2.8225214198286412, 1266.3500611995105, 2527....     Undefined         DG     14.410037      0.391677     47.391677     92.392901               NaN               NaN               NaN               NaN\n",
      "...          ...                                                ...    ...     ...                                                ...           ...        ...           ...           ...           ...           ...               ...               ...               ...               ...\n",
      "113263      Sham  Sham 2 Ipsilateral Mouse 7 Slide18 G4green Neu...   6716   259.0  (4.316602316602316, 773.7451737451737, 2486.45...     Undefined         DG      3.447876     10.023166     28.799228     95.698842               NaN               NaN               NaN               NaN\n",
      "113264      Sham  Sham 2 Ipsilateral Mouse 7 Slide18 G4green Neu...   6717   352.0  (2.4517045454545454, 3769.5142045454545, 1072....     Undefined  Undefined      3.400568      0.710227      1.153409     10.997159               NaN               NaN               NaN               NaN\n",
      "113265      Sham  Sham 2 Ipsilateral Mouse 7 Slide18 G4green Neu...   6718   330.0  (2.8848484848484848, 792.9787878787879, 2300.6...  neunPositive         DG     64.763636     10.193939    110.536364     11.587879               NaN               NaN               NaN               NaN\n",
      "113266      Sham  Sham 2 Ipsilateral Mouse 7 Slide18 G4green Neu...   6719   349.0  (1.183381088825215, 2967.3037249283666, 45.593...     Undefined  Undefined      3.295129      5.320917    155.054441     22.495702               NaN               NaN               NaN               NaN\n",
      "113267      Sham  Sham 2 Ipsilateral Mouse 7 Slide18 G4green Neu...   6720   853.0  (0.9613130128956624, 2017.6905041031653, 1304....  neunPositive         DG     40.640094      4.956624    163.145369     75.069168               NaN               NaN               NaN               NaN\n",
      "\n",
      "[113268 rows x 15 columns]\n",
      "0\n",
      "['DG' 'Undefined' 'CA3']\n"
     ]
    }
   ],
   "source": [
    "\n",
    "#nucleus_df = nucleus_df[nucleus_df['CellType'].isin(['neunPositive', 'neunPositiveLow'])]\n",
    "nucleus_df['CellType'] = nucleus_df['CellType'].replace('neunPositiveLow', 'neunPositive')\n",
    "\n",
    "merged_df = pd.merge(nucleus_df, image_df[['ImageName','g4Background']], on='ImageName')\n",
    "print(merged_df)\n",
    "# Assuming 'df' is your DataFrame\n",
    "print(nucleus_df[nucleus_df['ImageName'].str.contains('MIX2')])\n",
    "nucleus_df.loc[nucleus_df['ImageName'].str.contains('MIX2'), 'Ch3Intensity'] = nucleus_df.loc[nucleus_df['ImageName'].str.contains('MIX2'), 'Ch2Intensity']\n",
    "print(nucleus_df[nucleus_df['ImageName'].str.contains('MIX2')])\n",
    "print(nucleus_df)\n",
    "print(len(nucleus_df[nucleus_df['CellType']=='neunPositiveLow']))\n",
    "print(nucleus_df['Location'].unique())"
   ]
  },
  {
   "cell_type": "code",
   "execution_count": 63,
   "metadata": {},
   "outputs": [
    {
     "name": "stdout",
     "output_type": "stream",
     "text": [
      "   Condition                                          ImageName      CellType  g4Background  Ch3Intensity  BackgroundSubtracted\n",
      "0     Contra  HI 1 Contralateral Mouse 8 Slide18 G4green Neu...     Undefined     13.994380     64.614256             50.619876\n",
      "1     Contra  HI 1 Contralateral Mouse 8 Slide18 G4green Neu...  neunPositive     13.994380     74.958347             60.963967\n",
      "2     Contra  HI 2 Contralateral Mouse 9 Slide17 G4green Neu...     Undefined      3.326813     51.222869             47.896055\n",
      "3     Contra  HI 2 Contralateral Mouse 9 Slide17 G4green Neu...  neunPositive      3.326813     62.445271             59.118458\n",
      "4     Contra  HI 2 Contralateral Mouse 9 Slide17 G4green Neu...     Undefined      5.577969     51.658729             46.080760\n",
      "5     Contra  HI 2 Contralateral Mouse 9 Slide17 G4green Neu...  neunPositive      5.577969     63.903068             58.325099\n",
      "6     Contra  HI 3 Contralateral Mouse 10 Slide18 G4green Ne...     Undefined      3.313617     44.510877             41.197260\n",
      "7     Contra  HI 3 Contralateral Mouse 10 Slide18 G4green Ne...  neunPositive      3.313617     50.415409             47.101792\n",
      "8       Ipsi  HI 1 Ipsilateral Mouse 8 Slide18 G4green NeuNp...     Undefined     10.521647     65.326755             54.805108\n",
      "9       Ipsi  HI 1 Ipsilateral Mouse 8 Slide18 G4green NeuNp...  neunPositive     10.521647     61.430825             50.909178\n",
      "10      Ipsi  HI 1 Ipsilateral Mouse 8 Slide18 G4green NeuNp...     Undefined     10.837789     78.067734             67.229945\n",
      "11      Ipsi  HI 1 Ipsilateral Mouse 8 Slide18 G4green NeuNp...  neunPositive     10.837789     71.482686             60.644898\n",
      "12      Ipsi  HI 2 Ipsilateral Mouse 9 Slide17 G4green NeuNp...     Undefined      5.959022     58.210509             52.251487\n",
      "13      Ipsi  HI 2 Ipsilateral Mouse 9 Slide17 G4green NeuNp...  neunPositive      5.959022     65.611267             59.652245\n",
      "14      Ipsi  HI 2 Ipsilateral Mouse 9 Slide17 G4green NeuNp...     Undefined      7.837995     63.804884             55.966890\n",
      "15      Ipsi  HI 2 Ipsilateral Mouse 9 Slide17 G4green NeuNp...  neunPositive      7.837995     70.218936             62.380941\n",
      "16      Ipsi  HI 3 Ipsilateral Mouse 10 Slide18 G4green NeuN...     Undefined      0.698396     19.748485             19.050088\n",
      "17      Ipsi  HI 3 Ipsilateral Mouse 10 Slide18 G4green NeuN...  neunPositive      0.698396     28.190159             27.491762\n",
      "18      Ipsi  HI 3 Ipsilateral Mouse 10 Slide18 G4green NeuN...     Undefined      8.987294     70.170628             61.183334\n",
      "19      Ipsi  HI 3 Ipsilateral Mouse 10 Slide18 G4green NeuN...  neunPositive      8.987294     61.058131             52.070837\n",
      "20      Sham  Sham 1 Contralateral Mouse 6 Slide15 G4green N...     Undefined      3.109651     33.831215             30.721564\n",
      "21      Sham  Sham 1 Contralateral Mouse 6 Slide15 G4green N...  neunPositive      3.109651     31.808006             28.698356\n",
      "22      Sham  Sham 1 Contralateral Mouse 6 Slide15 G4green N...     Undefined      5.504037     48.859522             43.355486\n",
      "23      Sham  Sham 1 Contralateral Mouse 6 Slide15 G4green N...  neunPositive      5.504037     60.453497             54.949460\n",
      "24      Sham  Sham 1 Ipsilateral Mouse 6 Slide15 G4green Neu...     Undefined     10.175275     72.016481             61.841206\n",
      "25      Sham  Sham 1 Ipsilateral Mouse 6 Slide15 G4green Neu...  neunPositive     10.175275     83.453152             73.277877\n",
      "26      Sham  Sham 1 Ipsilateral Mouse 6 Slide15 G4green Neu...     Undefined      8.789790     64.877083             56.087293\n",
      "27      Sham  Sham 1 Ipsilateral Mouse 6 Slide15 G4green Neu...  neunPositive      8.789790     73.427659             64.637869\n",
      "28      Sham  Sham 2 Contralateral Mouse 7 Slide18 G4green N...     Undefined      7.159046     61.138315             53.979270\n",
      "29      Sham  Sham 2 Contralateral Mouse 7 Slide18 G4green N...  neunPositive      7.159046     79.280368             72.121322\n",
      "30      Sham  Sham 2 Ipsilateral Mouse 7 Slide18 G4green Neu...     Undefined      5.994389     55.344592             49.350203\n",
      "31      Sham  Sham 2 Ipsilateral Mouse 7 Slide18 G4green Neu...  neunPositive      5.994389     66.754970             60.760581\n",
      "   Condition                                          ImageName      CellType  Ch3Intensity\n",
      "0     Contra  HI 1 Contralateral Mouse 8 Slide18 G4green Neu...     Undefined     64.614256\n",
      "1     Contra  HI 1 Contralateral Mouse 8 Slide18 G4green Neu...  neunPositive     74.958347\n",
      "2     Contra  HI 2 Contralateral Mouse 9 Slide17 G4green Neu...     Undefined     51.222869\n",
      "3     Contra  HI 2 Contralateral Mouse 9 Slide17 G4green Neu...  neunPositive     62.445271\n",
      "4     Contra  HI 2 Contralateral Mouse 9 Slide17 G4green Neu...     Undefined     51.658729\n",
      "5     Contra  HI 2 Contralateral Mouse 9 Slide17 G4green Neu...  neunPositive     63.903068\n",
      "6     Contra  HI 3 Contralateral Mouse 10 Slide18 G4green Ne...     Undefined     44.510877\n",
      "7     Contra  HI 3 Contralateral Mouse 10 Slide18 G4green Ne...  neunPositive     50.415409\n",
      "8       Ipsi  HI 1 Ipsilateral Mouse 8 Slide18 G4green NeuNp...     Undefined     65.326755\n",
      "9       Ipsi  HI 1 Ipsilateral Mouse 8 Slide18 G4green NeuNp...  neunPositive     61.430825\n",
      "10      Ipsi  HI 1 Ipsilateral Mouse 8 Slide18 G4green NeuNp...     Undefined     78.067734\n",
      "11      Ipsi  HI 1 Ipsilateral Mouse 8 Slide18 G4green NeuNp...  neunPositive     71.482686\n",
      "12      Ipsi  HI 2 Ipsilateral Mouse 9 Slide17 G4green NeuNp...     Undefined     58.210509\n",
      "13      Ipsi  HI 2 Ipsilateral Mouse 9 Slide17 G4green NeuNp...  neunPositive     65.611267\n",
      "14      Ipsi  HI 2 Ipsilateral Mouse 9 Slide17 G4green NeuNp...     Undefined     63.804884\n",
      "15      Ipsi  HI 2 Ipsilateral Mouse 9 Slide17 G4green NeuNp...  neunPositive     70.218936\n",
      "18      Ipsi  HI 3 Ipsilateral Mouse 10 Slide18 G4green NeuN...     Undefined     70.170628\n",
      "19      Ipsi  HI 3 Ipsilateral Mouse 10 Slide18 G4green NeuN...  neunPositive     61.058131\n",
      "22      Sham  Sham 1 Contralateral Mouse 6 Slide15 G4green N...     Undefined     48.859522\n",
      "23      Sham  Sham 1 Contralateral Mouse 6 Slide15 G4green N...  neunPositive     60.453497\n",
      "24      Sham  Sham 1 Ipsilateral Mouse 6 Slide15 G4green Neu...     Undefined     72.016481\n",
      "25      Sham  Sham 1 Ipsilateral Mouse 6 Slide15 G4green Neu...  neunPositive     83.453152\n",
      "26      Sham  Sham 1 Ipsilateral Mouse 6 Slide15 G4green Neu...     Undefined     64.877083\n",
      "27      Sham  Sham 1 Ipsilateral Mouse 6 Slide15 G4green Neu...  neunPositive     73.427659\n",
      "28      Sham  Sham 2 Contralateral Mouse 7 Slide18 G4green N...     Undefined     61.138315\n",
      "29      Sham  Sham 2 Contralateral Mouse 7 Slide18 G4green N...  neunPositive     79.280368\n",
      "30      Sham  Sham 2 Ipsilateral Mouse 7 Slide18 G4green Neu...     Undefined     55.344592\n",
      "31      Sham  Sham 2 Ipsilateral Mouse 7 Slide18 G4green Neu...  neunPositive     66.754970\n"
     ]
    },
    {
     "name": "stderr",
     "output_type": "stream",
     "text": [
      "/Users/jonas/miniforge3/envs/naparienv2/lib/python3.9/site-packages/seaborn/_oldcore.py:1119: FutureWarning: use_inf_as_na option is deprecated and will be removed in a future version. Convert inf values to NaN before operating instead.\n",
      "  with pd.option_context('mode.use_inf_as_na', True):\n",
      "/Users/jonas/miniforge3/envs/naparienv2/lib/python3.9/site-packages/seaborn/_oldcore.py:1119: FutureWarning: use_inf_as_na option is deprecated and will be removed in a future version. Convert inf values to NaN before operating instead.\n",
      "  with pd.option_context('mode.use_inf_as_na', True):\n"
     ]
    },
    {
     "data": {
      "image/png": "[encoded data removed]",
      "text/plain": [
       "<Figure size 432x288 with 1 Axes>"
      ]
     },
     "metadata": {
      "needs_background": "light"
     },
     "output_type": "display_data"
    }
   ],
   "source": [
    "order =['Sham', 'Contra', 'Ipsi']\n",
    "\n",
    "mean_ch3_intensity = nucleus_df.groupby(['Condition', 'ImageName', 'CellType'])['Ch3Intensity'].mean().reset_index()\n",
    "mean_ch3_intensity = mean_ch3_intensity.drop([16,17,20,21])\n",
    "#mean_ch3_intensity = mean_ch3_intensity.drop(10)\n",
    "merged_ch3 = merged_df.groupby(['Condition','ImageName', 'CellType', 'g4Background'])['Ch3Intensity'].mean().reset_index()\n",
    "merged_ch3['BackgroundSubtracted'] = merged_ch3['Ch3Intensity'] - merged_ch3['g4Background']\n",
    "print(merged_ch3)\n",
    "\n",
    "palette = sns.color_palette(['royalblue'], 2)\n",
    "\n",
    "print(mean_ch3_intensity)\n",
    "boxplot = sns.boxplot(data=merged_ch3, showfliers = False, x='Condition', y='BackgroundSubtracted', hue='CellType',order=order, palette='Set3')\n",
    "stripplot = sns.stripplot(data=merged_ch3, x='Condition', y='BackgroundSubtracted', order=order, dodge=True, hue='CellType', palette=palette)\n",
    "handles, labels = boxplot.get_legend_handles_labels()\n",
    "\n",
    "# Create custom legend\n",
    "plt.legend(handles=handles[:2], labels=labels[:2])\n",
    "plt.ylim([0,75])\n",
    "plt.ylabel('G4 fluorescence')\n",
    "plt.savefig('plots/g4NeuronsBackgroundSubtracted.pdf')\n",
    "plt.show()"
   ]
  },
  {
   "cell_type": "code",
   "execution_count": 21,
   "metadata": {},
   "outputs": [
    {
     "name": "stdout",
     "output_type": "stream",
     "text": [
      "Index(['Condition', 'ImageName', 'CellType', 'Ch3Intensity'], dtype='object')\n",
      "ANOVA Results:\n",
      "F-statistic: 0.19089177328272944\n",
      "p-value: 0.8273274236139758\n",
      "\n",
      "Tukey HSD Results:\n",
      " Multiple Comparison of Means - Tukey HSD, FWER=0.05 \n",
      "=====================================================\n",
      "group1 group2 meandiff p-adj   lower    upper  reject\n",
      "-----------------------------------------------------\n",
      "Contra   Ipsi  -0.9735 0.9905 -19.3299  17.383  False\n",
      "Contra   Sham    2.971 0.9089 -14.6925 20.6344  False\n",
      "  Ipsi   Sham   3.9444 0.8265 -12.6254 20.5142  False\n",
      "-----------------------------------------------------\n"
     ]
    }
   ],
   "source": [
    "from scipy.stats import f_oneway\n",
    "from statsmodels.stats.multicomp import pairwise_tukeyhsd\n",
    "\n",
    "print(mean_ch3_intensity.keys())\n",
    "\n",
    "anova_results = f_oneway(mean_ch3_intensity[mean_ch3_intensity['Condition'] == 'Contra']['Ch3Intensity'],\n",
    "                         mean_ch3_intensity[mean_ch3_intensity['Condition'] == 'Ipsi']['Ch3Intensity'],\n",
    "                         mean_ch3_intensity[mean_ch3_intensity['Condition'] == 'Sham']['Ch3Intensity'])\n",
    "\n",
    "# Perform Tukey HSD post hoc test\n",
    "tukey_results = pairwise_tukeyhsd(mean_ch3_intensity['Ch3Intensity'], mean_ch3_intensity['Condition'])\n",
    "\n",
    "print(\"ANOVA Results:\")\n",
    "print(\"F-statistic:\", anova_results.statistic)\n",
    "print(\"p-value:\", anova_results.pvalue)\n",
    "\n",
    "print(\"\\nTukey HSD Results:\")\n",
    "print(tukey_results)"
   ]
  }
 ],
 "metadata": {
  "kernelspec": {
   "display_name": "naparienv2",
   "language": "python",
   "name": "python3"
  },
  "language_info": {
   "codemirror_mode": {
    "name": "ipython",
    "version": 3
   },
   "file_extension": ".py",
   "mimetype": "text/x-python",
   "name": "python",
   "nbconvert_exporter": "python",
   "pygments_lexer": "ipython3",
   "version": "3.9.18"
  },
  "vscode": {
   "interpreter": {
    "hash": "42e6a65aaed901ceea65151505639f0cb2b61095480c1a584a8cc7fb0db430c9"
   }
  }
 },
 "nbformat": 4,
 "nbformat_minor": 2
}
