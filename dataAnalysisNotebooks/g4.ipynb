{
 "cells": [
  {
   "cell_type": "code",
   "execution_count": 1,
   "metadata": {},
   "outputs": [],
   "source": [
    "import pandas as pd\n",
    "import seaborn as sns\n",
    "import matplotlib.pyplot as plt\n",
    "from statsmodels.stats.multicomp import MultiComparison\n",
    "from scipy.stats import spearmanr, pearsonr\n",
    "pd.set_option('display.width', 2000)"
   ]
  },
  {
   "cell_type": "code",
   "execution_count": 57,
   "metadata": {},
   "outputs": [],
   "source": [
    "nucleus_df = pd.read_csv('csv/nuclei_g4.csv')\n"
   ]
  },
  {
   "cell_type": "code",
   "execution_count": 58,
   "metadata": {},
   "outputs": [
    {
     "name": "stdout",
     "output_type": "stream",
     "text": [
      "Empty DataFrame\n",
      "Columns: [Condition, ImageName, Label, Area, Centroid, CellType, Location, Ch1Intensity, Ch2Intensity, Ch3Intensity, Ch4Intensity, CytoCh1Intensity, CytoCh2Intensity, CytoCh3Intensity, CytoCh4Intensity]\n",
      "Index: []\n",
      "Empty DataFrame\n",
      "Columns: [Condition, ImageName, Label, Area, Centroid, CellType, Location, Ch1Intensity, Ch2Intensity, Ch3Intensity, Ch4Intensity, CytoCh1Intensity, CytoCh2Intensity, CytoCh3Intensity, CytoCh4Intensity]\n",
      "Index: []\n",
      "       Condition                                          ImageName  Label    Area                                           Centroid         CellType   Location  Ch1Intensity  Ch2Intensity  Ch3Intensity  Ch4Intensity  CytoCh1Intensity  CytoCh2Intensity  CytoCh3Intensity  CytoCh4Intensity\n",
      "0         Contra  HI 1 Contralateral Mouse 8 Slide18 G4green Neu...      1  1311.0  (3.887109077040427, 2341.739893211289, 2699.13...  neunPositiveLow         DG     30.109077      0.247902     42.160183     52.469108               NaN               NaN               NaN               NaN\n",
      "5         Contra  HI 1 Contralateral Mouse 8 Slide18 G4green Neu...      6  1536.0  (3.0533854166666665, 799.79296875, 2682.239583...  neunPositiveLow         DG     32.425781      1.149089    112.718099     49.794922               NaN               NaN               NaN               NaN\n",
      "6         Contra  HI 1 Contralateral Mouse 8 Slide18 G4green Neu...      7  1879.0  (2.5295369877594465, 619.0931346460884, 2755.1...  neunPositiveLow         DG     27.300692      1.951038    102.881852     46.708888               NaN               NaN               NaN               NaN\n",
      "13        Contra  HI 1 Contralateral Mouse 8 Slide18 G4green Neu...     14  1551.0  (2.635074145712444, 1999.2056737588653, 3445.7...  neunPositiveLow         DG     21.855577      3.350097     75.429400     42.937460               NaN               NaN               NaN               NaN\n",
      "20        Contra  HI 1 Contralateral Mouse 8 Slide18 G4green Neu...     21  1298.0  (4.293528505392912, 1406.3813559322034, 2958.0...  neunPositiveLow         DG     35.848228      0.864407     58.943760     45.806626               NaN               NaN               NaN               NaN\n",
      "...          ...                                                ...    ...     ...                                                ...              ...        ...           ...           ...           ...           ...               ...               ...               ...               ...\n",
      "113259      Sham  Sham 2 Ipsilateral Mouse 7 Slide18 G4green Neu...   6712   412.0  (1.1529126213592233, 2298.483009708738, 425.19...  neunPositiveLow         DG     27.250000      5.640777    139.762136     83.873786               NaN               NaN               NaN               NaN\n",
      "113260      Sham  Sham 2 Ipsilateral Mouse 7 Slide18 G4green Neu...   6713   276.0  (4.8731884057971016, 47.73550724637681, 3561.9...  neunPositiveLow  Undefined     25.652174     18.601449     75.565217     14.039855               NaN               NaN               NaN               NaN\n",
      "113262      Sham  Sham 2 Ipsilateral Mouse 7 Slide18 G4green Neu...   6715   566.0  (1.3286219081272084, 2078.8162544169613, 1276....  neunPositiveLow         DG     26.438163      6.266784    154.500000     73.372792               NaN               NaN               NaN               NaN\n",
      "113265      Sham  Sham 2 Ipsilateral Mouse 7 Slide18 G4green Neu...   6718   330.0  (2.8848484848484848, 792.9787878787879, 2300.6...     neunPositive         DG     64.763636     10.193939    110.536364     11.587879               NaN               NaN               NaN               NaN\n",
      "113267      Sham  Sham 2 Ipsilateral Mouse 7 Slide18 G4green Neu...   6720   853.0  (0.9613130128956624, 2017.6905041031653, 1304....  neunPositiveLow         DG     40.640094      4.956624    163.145369     75.069168               NaN               NaN               NaN               NaN\n",
      "\n",
      "[44747 rows x 15 columns]\n",
      "30900\n",
      "['DG' 'Undefined' 'CA3']\n"
     ]
    }
   ],
   "source": [
    "nucleus_df = nucleus_df[nucleus_df['CellType'].isin(['neunPositive', 'neunPositiveLow'])]\n",
    "# Assuming 'df' is your DataFrame\n",
    "print(nucleus_df[nucleus_df['ImageName'].str.contains('MIX2')])\n",
    "nucleus_df.loc[nucleus_df['ImageName'].str.contains('MIX2'), 'Ch3Intensity'] = nucleus_df.loc[nucleus_df['ImageName'].str.contains('MIX2'), 'Ch2Intensity']\n",
    "print(nucleus_df[nucleus_df['ImageName'].str.contains('MIX2')])\n",
    "print(nucleus_df)\n",
    "print(len(nucleus_df[nucleus_df['CellType']=='neunPositiveLow']))\n",
    "print(nucleus_df['Location'].unique())"
   ]
  },
  {
   "cell_type": "code",
   "execution_count": 61,
   "metadata": {},
   "outputs": [
    {
     "name": "stdout",
     "output_type": "stream",
     "text": [
      "   Condition                                          ImageName  Ch3Intensity\n",
      "0     Contra  HI 1 Contralateral Mouse 8 Slide18 G4green Neu...     74.958347\n",
      "1     Contra  HI 2 Contralateral Mouse 9 Slide17 G4green Neu...     62.445271\n",
      "2     Contra  HI 2 Contralateral Mouse 9 Slide17 G4green Neu...     63.903068\n",
      "3     Contra  HI 3 Contralateral Mouse 10 Slide18 G4green Ne...     50.415409\n",
      "4       Ipsi  HI 1 Ipsilateral Mouse 8 Slide18 G4green NeuNp...     61.430825\n",
      "5       Ipsi  HI 1 Ipsilateral Mouse 8 Slide18 G4green NeuNp...     71.482686\n",
      "6       Ipsi  HI 2 Ipsilateral Mouse 9 Slide17 G4green NeuNp...     65.611267\n",
      "7       Ipsi  HI 2 Ipsilateral Mouse 9 Slide17 G4green NeuNp...     70.218936\n",
      "9       Ipsi  HI 3 Ipsilateral Mouse 10 Slide18 G4green NeuN...     61.058131\n",
      "11      Sham  Sham 1 Contralateral Mouse 6 Slide15 G4green N...     60.453497\n",
      "12      Sham  Sham 1 Ipsilateral Mouse 6 Slide15 G4green Neu...     83.453152\n",
      "13      Sham  Sham 1 Ipsilateral Mouse 6 Slide15 G4green Neu...     73.427659\n",
      "14      Sham  Sham 2 Contralateral Mouse 7 Slide18 G4green N...     79.280368\n",
      "15      Sham  Sham 2 Ipsilateral Mouse 7 Slide18 G4green Neu...     66.754970\n"
     ]
    },
    {
     "name": "stderr",
     "output_type": "stream",
     "text": [
      "c:\\Users\\jonasvg\\AppData\\Local\\miniconda3\\envs\\image_analysis\\lib\\site-packages\\seaborn\\_oldcore.py:1119: FutureWarning: use_inf_as_na option is deprecated and will be removed in a future version. Convert inf values to NaN before operating instead.\n",
      "  with pd.option_context('mode.use_inf_as_na', True):\n",
      "c:\\Users\\jonasvg\\AppData\\Local\\miniconda3\\envs\\image_analysis\\lib\\site-packages\\seaborn\\_oldcore.py:1119: FutureWarning: use_inf_as_na option is deprecated and will be removed in a future version. Convert inf values to NaN before operating instead.\n",
      "  with pd.option_context('mode.use_inf_as_na', True):\n"
     ]
    },
    {
     "data": {
      "image/png": "[encoded data removed]",
      "text/plain": [
       "<Figure size 640x480 with 1 Axes>"
      ]
     },
     "metadata": {},
     "output_type": "display_data"
    }
   ],
   "source": [
    "order =['Sham', 'Contra', 'Ipsi']\n",
    "\n",
    "mean_ch3_intensity = nucleus_df.groupby(['Condition', 'ImageName'])['Ch3Intensity'].mean().reset_index()\n",
    "mean_ch3_intensity = mean_ch3_intensity.drop(8)\n",
    "mean_ch3_intensity = mean_ch3_intensity.drop(10)\n",
    "print(mean_ch3_intensity)\n",
    "sns.boxplot(data=mean_ch3_intensity, showfliers = False, x='Condition', y='Ch3Intensity', order=order, palette='Set3')\n",
    "sns.stripplot(data=mean_ch3_intensity, x='Condition', y='Ch3Intensity', order=order)\n",
    "plt.ylabel('G4 fluorescence')\n",
    "plt.show()"
   ]
  },
  {
   "cell_type": "code",
   "execution_count": 62,
   "metadata": {},
   "outputs": [
    {
     "name": "stdout",
     "output_type": "stream",
     "text": [
      "Index(['Condition', 'ImageName', 'Ch3Intensity'], dtype='object')\n",
      "ANOVA Results:\n",
      "F-statistic: 1.7023767209110394\n",
      "p-value: 0.22692257773710447\n",
      "\n",
      "Tukey HSD Results:\n",
      "Multiple Comparison of Means - Tukey HSD, FWER=0.05 \n",
      "====================================================\n",
      "group1 group2 meandiff p-adj   lower   upper  reject\n",
      "----------------------------------------------------\n",
      "Contra   Ipsi   3.0298 0.8484 -11.836 17.8957  False\n",
      "Contra   Sham   9.7434 0.2243 -5.1225 24.6093  False\n",
      "  Ipsi   Sham   6.7136 0.4273 -7.3021 20.7293  False\n",
      "----------------------------------------------------\n"
     ]
    }
   ],
   "source": [
    "from scipy.stats import f_oneway\n",
    "from statsmodels.stats.multicomp import pairwise_tukeyhsd\n",
    "\n",
    "print(mean_ch3_intensity.keys())\n",
    "\n",
    "anova_results = f_oneway(mean_ch3_intensity[mean_ch3_intensity['Condition'] == 'Contra']['Ch3Intensity'],\n",
    "                         mean_ch3_intensity[mean_ch3_intensity['Condition'] == 'Ipsi']['Ch3Intensity'],\n",
    "                         mean_ch3_intensity[mean_ch3_intensity['Condition'] == 'Sham']['Ch3Intensity'])\n",
    "\n",
    "# Perform Tukey HSD post hoc test\n",
    "tukey_results = pairwise_tukeyhsd(mean_ch3_intensity['Ch3Intensity'], mean_ch3_intensity['Condition'])\n",
    "\n",
    "print(\"ANOVA Results:\")\n",
    "print(\"F-statistic:\", anova_results.statistic)\n",
    "print(\"p-value:\", anova_results.pvalue)\n",
    "\n",
    "print(\"\\nTukey HSD Results:\")\n",
    "print(tukey_results)"
   ]
  }
 ],
 "metadata": {
  "kernelspec": {
   "display_name": "image_analysis",
   "language": "python",
   "name": "python3"
  },
  "language_info": {
   "codemirror_mode": {
    "name": "ipython",
    "version": 3
   },
   "file_extension": ".py",
   "mimetype": "text/x-python",
   "name": "python",
   "nbconvert_exporter": "python",
   "pygments_lexer": "ipython3",
   "version": "3.9.18"
  }
 },
 "nbformat": 4,
 "nbformat_minor": 2
}
