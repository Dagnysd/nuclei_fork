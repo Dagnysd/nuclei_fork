{
 "cells": [
  {
   "cell_type": "markdown",
   "metadata": {},
   "source": [
    "# Example: Measuring GFP positive neuron proportion\n",
    "\n",
    "This notebook demonstrates how we can classify nuclei as either positive or negative for two differet markers, and then calculate the overlap between these.\n",
    "\n",
    "Specifically, this pipeline was used to calculate the proportion of neurons that expressed the gfp fusion protein indicating successfull knockout of the TDG gene."
   ]
  },
  {
   "cell_type": "markdown",
   "metadata": {},
   "source": [
    "## Import dependencies\n",
    "\n",
    "The following libraries are used for the data processing, clustering, statistical calculations and visualization"
   ]
  },
  {
   "cell_type": "code",
   "execution_count": null,
   "metadata": {},
   "outputs": [],
   "source": [
    "import pandas as pd\n",
    "import napari\n",
    "import seaborn as sns\n",
    "import matplotlib.pyplot as plt\n",
    "from statsmodels.stats.multicomp import MultiComparison\n",
    "from sklearn.cluster import KMeans\n",
    "import numpy as np\n",
    "import sys\n",
    "sys.path.insert(1, '/Users/jonas/Documents/nucleus_analysis/nuclei')\n",
    "from utils import readImage\n",
    "pd.set_option('display.width', 2000)\n",
    "import warnings\n",
    "warnings.filterwarnings(\"ignore\", message=\"KMeans is known to have a memory leak on Windows with MKL\")"
   ]
  },
  {
   "cell_type": "markdown",
   "metadata": {},
   "source": [
    "## Load .csv file\n",
    "\n",
    "The .csv file is loaded, and a Pandas dataframe is created from it.\n",
    "We inspect the structure of the dataframe by printing it."
   ]
  },
  {
   "cell_type": "code",
   "execution_count": null,
   "metadata": {},
   "outputs": [],
   "source": [
    "nucleus_df = pd.read_csv('csv/nuclei_liv_test.csv')\n",
    "print(nucleus_df)"
   ]
  },
  {
   "cell_type": "markdown",
   "metadata": {},
   "source": [
    "## Classifying Neurons\n",
    "\n",
    "Firstly, we wish to identify the neurons of the images. This is done by clustering based on NeuN fluorescence.\n",
    "\n",
    "A k-means clustering is conducted. n_clusters indicates the number of clusters. In this case, this is two: Neurons and non-neurons.\n",
    "\n"
   ]
  },
  {
   "cell_type": "code",
   "execution_count": null,
   "metadata": {},
   "outputs": [],
   "source": [
    "#channel_key inticates which column we should cluster by.\n",
    "channel_key = 'Ch1Intensity'\n",
    "nucleus_df['Cluster_Label'] = np.nan\n",
    "num_clusters = 2\n",
    "\n",
    "for name in nucleus_df['ImageName'].unique():\n",
    "    df = nucleus_df[nucleus_df['ImageName'] == name]\n",
    "    intensity_values = df[channel_key].values.reshape(-1, 1)\n",
    "    kmeans = KMeans(n_clusters=num_clusters, random_state=42, n_init=\"auto\")\n",
    "    clusters = kmeans.fit_predict(intensity_values)\n",
    "    sorted_clusters = np.argsort(kmeans.cluster_centers_.flatten())\n",
    "    cluster_labels = sorted_clusters[clusters] \n",
    "    nucleus_df.loc[df.index, 'Cluster_Label'] = cluster_labels\n",
    "\n",
    "nucleus_df.loc[nucleus_df['Cluster_Label'] == 1.0, 'CellType'] = 'Neuron'\n",
    "nucleus_df.drop(columns=['Cluster_Label'], inplace=True)\n",
    "print(nucleus_df.head())"
   ]
  },
  {
   "cell_type": "markdown",
   "metadata": {},
   "source": [
    "### Verify classification\n",
    "\n",
    "In order to inspect whether or not our classification was successfull we may both:\n",
    "- Display positive nuclei in the image"
   ]
  },
  {
   "cell_type": "code",
   "execution_count": null,
   "metadata": {},
   "outputs": [],
   "source": [
    "img_name = '170123_A1_363_NeuN-GFP_S1_MEC.czi' # 'Enter name of image as it appears in nucleus_df'\n",
    "img_path = 'D:/Users\\Jonas/nuclei\\imagesAndMasks\\liv\\mec/170123_A1_363_NeuN-GFP_S1_MEC.czi' # 'Path to same image'\n",
    "\n",
    "neuron_df = nucleus_df[nucleus_df['CellType'] == 'Neuron']\n",
    "img_df = neuron_df[neuron_df['ImageName'] == img_name]\n",
    "\n",
    "centroids = img_df['Centroid'].apply(eval)\n",
    "\n",
    "# Convert centroids to a NumPy array\n",
    "centroids_array = np.array(centroids.tolist())  # Transpose the array to get the desired shape\n",
    "\n",
    "\n",
    "from skimage import io\n",
    "import napari\n",
    "img= readImage(img_path)\n",
    "\n",
    "viewer = napari.view_image(img, scale =([0.9278, 0.3459, 0.3459]), channel_axis=3 )\n",
    "viewer.add_points(centroids_array, size=10, symbol='cross', edge_color='blue', face_color='blue', name='Nuclei Centroids', scale=([0.9278, 0.3459, 0.3459]))\n",
    "napari.run()"
   ]
  },
  {
   "cell_type": "markdown",
   "metadata": {},
   "source": [
    "- Combination of violinplot and boxplot"
   ]
  },
  {
   "cell_type": "code",
   "execution_count": null,
   "metadata": {},
   "outputs": [],
   "source": [
    "channel_key = 'Ch1Intensity'\n",
    "\n",
    "for name in nucleus_df['ImageName'].unique():\n",
    "    neuron_intensities = []\n",
    "    undefined_intensities = []\n",
    "    df = nucleus_df[nucleus_df['ImageName'] == name]\n",
    "    neuron_intensities.extend(df[df['CellType'] == 'Neuron'][channel_key].tolist())\n",
    "    # Filter 'Ch1Intensity' values where 'CellType' == 'Undefined'\n",
    "    undefined_intensities.extend(df[df['CellType'] == 'Undefined'][channel_key].tolist())\n",
    "    shared_values = set(neuron_intensities) & set(undefined_intensities)\n",
    "    if shared_values:\n",
    "        print(f\"Shared values found: {shared_values}\")\n",
    "    fig, ax = plt.subplots()\n",
    "    sns.violinplot(data=df, x='ImageName', y=channel_key, zorder=1, ax=ax)\n",
    "    ax.boxplot(neuron_intensities, positions=[0], widths=0.2, patch_artist=True,\n",
    "            boxprops=dict(facecolor=\"seagreen\", zorder=2, alpha=.7),\n",
    "            medianprops=dict(color=\"black\"),\n",
    "            whiskerprops=dict(color=\"darkgreen\"),\n",
    "            capprops=dict(color=\"darkgreen\"))\n",
    "\n",
    "    ax.boxplot(undefined_intensities, positions=[0], widths=0.2, patch_artist=True,\n",
    "            boxprops=dict(facecolor=\"lightcoral\", zorder=2, alpha=.7),\n",
    "            medianprops=dict(color=\"black\"),\n",
    "            whiskerprops=dict(color=\"firebrick\"),\n",
    "            capprops=dict(color=\"firebrick\"))\n",
    "    plt.xlabel(name)\n",
    "    plt.xticks([0],\"\")\n",
    "    plt.show()"
   ]
  },
  {
   "cell_type": "markdown",
   "metadata": {},
   "source": [
    "## Classify GFP positive "
   ]
  },
  {
   "cell_type": "code",
   "execution_count": null,
   "metadata": {},
   "outputs": [],
   "source": [
    "channel_key = 'Ch3Intensity'\n",
    "nucleus_df['Cluster_Label'] = np.nan\n",
    "nucleus_df['GFP_positive'] = np.nan\n",
    "\n",
    "\n",
    "for name in nucleus_df['ImageName'].unique():\n",
    "    df = nucleus_df[nucleus_df['ImageName'] == name]\n",
    "    intensity_values = df[channel_key].values.reshape(-1, 1)\n",
    "    kmeans = KMeans(n_clusters=2, random_state=42, n_init=\"auto\")\n",
    "    clusters = kmeans.fit_predict(intensity_values)\n",
    "    sorted_clusters = np.argsort(kmeans.cluster_centers_.flatten())\n",
    "    cluster_labels = sorted_clusters[clusters]  # Map cluster indices to sorted clusters\n",
    "    nucleus_df.loc[df.index, 'Cluster_Label'] = cluster_labels\n",
    "\n",
    "nucleus_df.loc[nucleus_df['Cluster_Label'] == 1.0, 'GFP_positive'] = True\n",
    "nucleus_df.drop(columns=['Cluster_Label'], inplace=True)\n",
    "print(nucleus_df.head())"
   ]
  },
  {
   "cell_type": "code",
   "execution_count": null,
   "metadata": {},
   "outputs": [],
   "source": [
    "result = nucleus_df.groupby('ImageName').agg(\n",
    "    Condition=('Condition', 'first'),\n",
    "    TotalNuclei=('Label', 'count'),\n",
    "    NeuronNuclei=('CellType', lambda x: (x == 'Neuron').sum()),\n",
    "     GFPPositiveNuclei=('GFP_positive', lambda x: x.sum()),\n",
    "     NeuronAndGFPPositive=('GFP_positive', lambda x: ((x == True) & (nucleus_df['CellType'] == 'Neuron')).sum())\n",
    ")\n",
    "result['ProportionNeuronAndGFP'] = result['NeuronAndGFPPositive'] / result['NeuronNuclei']\n",
    "print(result)"
   ]
  },
  {
   "cell_type": "markdown",
   "metadata": {},
   "source": [
    "## Visualize results"
   ]
  },
  {
   "cell_type": "code",
   "execution_count": null,
   "metadata": {},
   "outputs": [],
   "source": [
    "sns.boxplot(data=result, x='Condition', y='ProportionNeuronAndGFP', showfliers=False,order=['CA1','CA3','DG', 'MEC'], palette=\"Set3\")\n",
    "sns.stripplot(data=result, x='Condition', y='ProportionNeuronAndGFP', order=['CA1','CA3','DG', 'MEC'], alpha=0.7)\n",
    "plt.xlabel(\"Region\")\n",
    "plt.ylabel(\"Proportion GFP+ Neurons\")\n",
    "#plt.savefig('gfpNeurons.pdf')\n",
    "plt.show()"
   ]
  }
 ],
 "metadata": {
  "kernelspec": {
   "display_name": "naparienv2",
   "language": "python",
   "name": "python3"
  },
  "language_info": {
   "codemirror_mode": {
    "name": "ipython",
    "version": 3
   },
   "file_extension": ".py",
   "mimetype": "text/x-python",
   "name": "python",
   "nbconvert_exporter": "python",
   "pygments_lexer": "ipython3",
   "version": "3.9.18"
  },
  "vscode": {
   "interpreter": {
    "hash": "42e6a65aaed901ceea65151505639f0cb2b61095480c1a584a8cc7fb0db430c9"
   }
  }
 },
 "nbformat": 4,
 "nbformat_minor": 2
}
