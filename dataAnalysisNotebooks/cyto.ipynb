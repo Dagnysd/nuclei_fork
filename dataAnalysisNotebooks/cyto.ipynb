{
 "cells": [
  {
   "cell_type": "code",
   "execution_count": null,
   "metadata": {},
   "outputs": [],
   "source": [
    "import pandas as pd\n",
    "import seaborn as sns\n",
    "import matplotlib.pyplot as plt\n",
    "from statsmodels.stats.multicomp import MultiComparison\n",
    "from sklearn.cluster import KMeans\n",
    "import numpy as np\n",
    "pd.set_option('display.width', 2000)"
   ]
  },
  {
   "cell_type": "code",
   "execution_count": null,
   "metadata": {},
   "outputs": [],
   "source": [
    "nucleus_df = pd.read_csv('csv/nuclei_iba1.csv')\n",
    "image_df = pd.read_csv('csv/images_iba1.csv')\n",
    "print(nucleus_df.keys())"
   ]
  },
  {
   "cell_type": "code",
   "execution_count": null,
   "metadata": {},
   "outputs": [],
   "source": [
    "missing_ch4 = nucleus_df['Ch4Intensity'].isnull()\n",
    "\n",
    "# Shift the values for rows with missing Ch4Intensity\n",
    "nucleus_df.loc[missing_ch4, 'Ch4Intensity'] = nucleus_df.loc[missing_ch4, 'Ch3Intensity']\n",
    "nucleus_df.loc[missing_ch4, 'Ch3Intensity'] = nucleus_df.loc[missing_ch4, 'Ch2Intensity']\n",
    "nucleus_df.loc[missing_ch4, 'Ch2Intensity'] = np.nan\n",
    "nucleus_df.loc[missing_ch4, 'CytoCh4Intensity'] = nucleus_df.loc[missing_ch4, 'CytoCh3Intensity']\n",
    "nucleus_df.loc[missing_ch4, 'CytoCh3Intensity'] = nucleus_df.loc[missing_ch4, 'CytoCh2Intensity']\n",
    "nucleus_df.loc[missing_ch4, 'CytoCh2Intensity'] = np.nan"
   ]
  },
  {
   "cell_type": "code",
   "execution_count": null,
   "metadata": {},
   "outputs": [],
   "source": [
    "\n",
    "#nucleus_df = nucleus_df[nucleus_df['Location'] == 'DG']\n",
    "mean_intensity = nucleus_df.groupby(['Condition', 'Location', 'ImageName'])['CytoCh1Intensity'].mean().reset_index()\n",
    "print(mean_intensity)\n",
    "#mean_intensity = mean_intensity[mean_intensity['Location']=='HC']\n",
    "#grouped_df=merged_df.groupby('ImageName')\n",
    "\n",
    "order = ['Sham', 'Contra', 'Ipsi']\n",
    "\n",
    "# Plotting\n",
    "sns.boxplot(data=mean_intensity, x='Condition', y='CytoCh1Intensity', hue = 'Location',order=order, palette='Set3')\n",
    "plt.ylabel('Mean cytoplasmic GFAP intensity')\n",
    "plt.show()"
   ]
  },
  {
   "cell_type": "code",
   "execution_count": null,
   "metadata": {},
   "outputs": [],
   "source": [
    "import napari\n",
    "all_sorted_clusters = []\n",
    "channel_key = 'CytoCh1Intensity'\n",
    "nucleus_df['Cluster_Label'] = np.nan\n",
    "num_clusters = 2\n",
    "\n",
    "for name in nucleus_df['ImageName'].unique():\n",
    "    df = nucleus_df[nucleus_df['ImageName'] == name]\n",
    "    intensity_values = df[channel_key].values.reshape(-1, 1)\n",
    "    kmeans = KMeans(n_clusters=num_clusters, random_state=42, n_init=\"auto\")\n",
    "    clusters = kmeans.fit_predict(intensity_values)\n",
    "    sorted_clusters = np.argsort(kmeans.cluster_centers_.flatten())\n",
    "    cluster_labels = sorted_clusters[clusters] \n",
    "    nucleus_df.loc[df.index, 'Cluster_Label'] = cluster_labels\n",
    "\n",
    "nucleus_df.loc[nucleus_df['Cluster_Label'] == 1.0, 'CellType'] = 'Astrocyte'\n",
    "nucleus_df.drop(columns=['Cluster_Label'], inplace=True)\n",
    "print(nucleus_df.head())\n",
    "\n",
    "astrocyte_df = nucleus_df[nucleus_df['CellType'] == 'Astrocyte']\n",
    "\n",
    "\n",
    "# grouped_df = positive_df.groupby(['ImageName', 'Condition', 'Location']).size().unstack(fill_value=0)\n",
    "# #print(grouped_df)\n",
    "# merged_df = pd.merge(grouped_df, image_df[['ImageName','Condition', 'CA1Volume']], on='ImageName')\n",
    "\n",
    "# # Reset index to make 'ImageName', 'Condition', and 'Cluster_Label' as columns\n",
    "# scale = [0.9278, 0.3459, 0.3459]\n",
    "# grouped_df.reset_index(inplace=True)\n",
    "# merged_df['positiveVolume'] = (merged_df['HC'] / merged_df['CA1Volume']) * np.prod(scale) *10**6\n",
    "# print(positive_df)\n"
   ]
  },
  {
   "cell_type": "code",
   "execution_count": null,
   "metadata": {},
   "outputs": [],
   "source": [
    "all_sorted_clusters = []\n",
    "channel_key = 'CytoCh3Intensity'\n",
    "nucleus_df['Cluster_Label'] = np.nan\n",
    "num_clusters = 2\n",
    "\n",
    "for name in nucleus_df['ImageName'].unique():\n",
    "    df = nucleus_df[nucleus_df['ImageName'] == name]\n",
    "    intensity_values = df[channel_key].values.reshape(-1, 1)\n",
    "    kmeans = KMeans(n_clusters=num_clusters, random_state=42, n_init=\"auto\")\n",
    "    clusters = kmeans.fit_predict(intensity_values)\n",
    "    sorted_clusters = np.argsort(kmeans.cluster_centers_.flatten())\n",
    "    cluster_labels = sorted_clusters[clusters] \n",
    "    nucleus_df.loc[df.index, 'Cluster_Label'] = cluster_labels\n",
    "\n",
    "nucleus_df.loc[(nucleus_df['Cluster_Label'] == 1.0) & (nucleus_df['CellType'] != 'Astrocyte'), 'CellType'] = 'Microglia'\n",
    "nucleus_df.drop(columns=['Cluster_Label'], inplace=True)\n",
    "microglia_df = nucleus_df[nucleus_df['CellType'] == 'Microglia']\n",
    "print(nucleus_df.head())"
   ]
  },
  {
   "cell_type": "code",
   "execution_count": null,
   "metadata": {},
   "outputs": [],
   "source": [
    "negative_df = nucleus_df[nucleus_df['CellType'] != 'Astrocyte']\n",
    "\n",
    "neg_mean_intensity = negative_df.groupby(['Condition', 'Location', 'ImageName'])['CytoCh1Intensity'].mean().reset_index()\n",
    "print(neg_mean_intensity)\n",
    "#neg_mean_intensity = neg_mean_intensity[neg_mean_intensity['Location']=='EDGE']\n",
    "#grouped_df=merged_df.groupby('ImageName')\n",
    "\n",
    "order = ['Sham', 'Contra', 'Ipsi']\n",
    "palette = sns.color_palette(['royalblue'], 2)\n",
    "# Plotting\n",
    "sns.boxplot(data=neg_mean_intensity, x='Condition', y='CytoCh1Intensity', hue='Location', order=order, palette='Set3')\n",
    "sns.stripplot(data=neg_mean_intensity, x='Condition', y='CytoCh1Intensity', order=order, hue='Location', palette=palette, alpha=0.7,dodge=True)\n",
    "plt.ylabel('Mean cytoplasmic GFAP intensity')\n",
    "plt.tight_layout()\n",
    "plt.savefig('non_astrocyte_GFAP.pdf')\n",
    "plt.show()"
   ]
  },
  {
   "cell_type": "code",
   "execution_count": null,
   "metadata": {},
   "outputs": [],
   "source": [
    "\n",
    "imgName = 'HI 1 Ipsilateral Mouse 8 Slide 22  IBA1green GFAPpink Col1a1red 40x 6x6 technical replica 2.lsm'\n",
    "img1_astrocyte_df = astrocyte_df[astrocyte_df['ImageName'] == imgName]\n",
    "img1_microglia_df = microglia_df[microglia_df['ImageName'] == imgName]\n",
    "\n",
    "centroidsAstro = img1_astrocyte_df['Centroid'].apply(eval)\n",
    "centroidsMicro = img1_microglia_df['Centroid'].apply(eval)\n",
    "\n",
    "# Convert centroids to a NumPy array\n",
    "centroids_array_astro = np.array(centroidsAstro.tolist())  # Transpose the array to get the desired shape\n",
    "centroids_array_micro = np.array(centroidsMicro.tolist())\n",
    "\n",
    "from skimage import io\n",
    "img= io.imread(\"D:/Users\\Jonas/nuclei\\imagesAndMasks\\iba1\\ipsi\\HI 1 Ipsilateral Mouse 8 Slide 22  IBA1green GFAPpink Col1a1red 40x 6x6 technical replica 2.lsm\")\n",
    "\n",
    "viewer = napari.view_image(img, scale =([0.9278, 0.3459, 0.3459]), channel_axis=3 )\n",
    "viewer.add_points(centroids_array_astro, size=10, symbol='cross', edge_color='blue', face_color='blue', name='Astrocytes', scale=([0.9278, 0.3459, 0.3459]))\n",
    "viewer.add_points(centroids_array_micro, size=10, symbol='cross', edge_color='green', face_color='green', name='Microglia', scale=([0.9278, 0.3459, 0.3459]))\n",
    "napari.run()"
   ]
  },
  {
   "cell_type": "code",
   "execution_count": null,
   "metadata": {},
   "outputs": [],
   "source": [
    "grouped_df = astrocyte_df.groupby(['ImageName', 'Condition', 'Location']).size().reset_index(name='Microglia')\n",
    "merged_df = pd.merge(grouped_df, image_df[['ImageName','Condition', 'CA1Volume', 'CA3Volume']], on='ImageName')\n",
    "scale = [0.9278, 0.3459, 0.3459]\n",
    "# grouped_df.reset_index(inplace=True)\n",
    "merged_df['MicrogliaHC'] = (merged_df['Microglia'] / merged_df['CA1Volume']) * np.prod(scale) *10**6\n",
    "merged_df['MicrogliaEDGE'] = (merged_df['Microglia'] / merged_df['CA3Volume']) * np.prod(scale) *10**6\n",
    "merged_df = merged_df[merged_df['Location'] != 'Undefined']\n",
    "merged_df['MicrogliaDensity'] = np.where(merged_df['Location'] == 'HC', merged_df['MicrogliaHC'], merged_df['MicrogliaEDGE'])\n",
    "print(merged_df)"
   ]
  },
  {
   "cell_type": "code",
   "execution_count": null,
   "metadata": {},
   "outputs": [],
   "source": [
    "\n",
    "order = ['Sham', 'Contra', 'Ipsi']\n",
    "#plt.figure(figsize=(10, 6))  # Adjust size as needed\n",
    "sns.boxplot(data=merged_df, x='Condition_x', y='MicrogliaDensity', showfliers=False, order=order, hue='Location',palette='Set3', dodge=True)\n",
    "sns.stripplot(data=merged_df, x='Condition_x', y='MicrogliaDensity', order=order, hue='Location', palette=palette, alpha=0.7,dodge=True)\n",
    "plt.xlabel('Condition')\n",
    "plt.ylabel('GFAP positive nuclei / 100 \\u03bcm^3')\n",
    "#plt.ylim(0,10)\n",
    "plt.tight_layout()\n",
    "#plt.savefig(\"plots/GFAPPositive.pdf\")\n",
    "plt.show()"
   ]
  },
  {
   "cell_type": "code",
   "execution_count": null,
   "metadata": {},
   "outputs": [],
   "source": [
    "from scipy.stats import f_oneway\n",
    "from statsmodels.stats.multicomp import pairwise_tukeyhsd\n",
    "\n",
    "print(grouped_df.keys())\n",
    "\n",
    "anova_results = f_oneway(merged_df[merged_df['Condition'] == 'Contra']['positiveVolume'],\n",
    "                         merged_df[merged_df['Condition'] == 'Ipsi']['positiveVolume'],\n",
    "                         merged_df[merged_df['Condition'] == 'Sham']['positiveVolume'])\n",
    "\n",
    "# Perform Tukey HSD post hoc test\n",
    "tukey_results = pairwise_tukeyhsd(merged_df['positiveVolume'], merged_df['Condition'])\n",
    "\n",
    "print(\"ANOVA Results:\")\n",
    "print(\"F-statistic:\", anova_results.statistic)\n",
    "print(\"p-value:\", anova_results.pvalue)\n",
    "\n",
    "print(\"\\nTukey HSD Results:\")\n",
    "print(tukey_results)\n",
    "\n"
   ]
  },
  {
   "cell_type": "code",
   "execution_count": null,
   "metadata": {},
   "outputs": [],
   "source": [
    "for name in nucleus_df['ImageName'].unique():\n",
    "    df = nucleus_df[nucleus_df['ImageName'] == name]\n",
    "    sns.violinplot(data=df, x='ImageName', y='CytoCh2Intensity')\n",
    "    plt.show()"
   ]
  },
  {
   "cell_type": "code",
   "execution_count": null,
   "metadata": {},
   "outputs": [],
   "source": []
  }
 ],
 "metadata": {
  "kernelspec": {
   "display_name": "naparienv2",
   "language": "python",
   "name": "python3"
  },
  "language_info": {
   "codemirror_mode": {
    "name": "ipython",
    "version": 3
   },
   "file_extension": ".py",
   "mimetype": "text/x-python",
   "name": "python",
   "nbconvert_exporter": "python",
   "pygments_lexer": "ipython3",
   "version": "3.9.18"
  },
  "vscode": {
   "interpreter": {
    "hash": "42e6a65aaed901ceea65151505639f0cb2b61095480c1a584a8cc7fb0db430c9"
   }
  }
 },
 "nbformat": 4,
 "nbformat_minor": 2
}
