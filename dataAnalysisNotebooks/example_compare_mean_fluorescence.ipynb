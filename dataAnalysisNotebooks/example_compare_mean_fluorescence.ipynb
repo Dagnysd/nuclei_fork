{
 "cells": [
  {
   "cell_type": "code",
   "execution_count": null,
   "metadata": {},
   "outputs": [],
   "source": [
    "import pandas as pd\n",
    "import seaborn as sns\n",
    "import matplotlib.pyplot as plt\n",
    "from statsmodels.stats.multicomp import MultiComparison\n",
    "from scipy.stats import spearmanr, pearsonr\n",
    "pd.set_option('display.width', 2000)"
   ]
  },
  {
   "cell_type": "code",
   "execution_count": null,
   "metadata": {},
   "outputs": [],
   "source": [
    "nucleus_df = pd.read_csv('csv/nuclei_g4_2.csv')\n",
    "image_df = pd.read_csv('csv/images_g4_2.csv')\n",
    "print(nucleus_df['Location'].unique())\n"
   ]
  },
  {
   "cell_type": "code",
   "execution_count": null,
   "metadata": {},
   "outputs": [],
   "source": [
    "\n",
    "#nucleus_df = nucleus_df[nucleus_df['CellType'].isin(['neunPositive', 'neunPositiveLow'])]\n",
    "nucleus_df['CellType'] = nucleus_df['CellType'].replace('neunPositiveLow', 'neunPositive')\n",
    "\n",
    "merged_df = pd.merge(nucleus_df, image_df[['ImageName','g4Background']], on='ImageName')\n",
    "print(merged_df)\n",
    "# Assuming 'df' is your DataFrame\n",
    "print(len(nucleus_df[nucleus_df['CellType']=='neunPositiveLow']))\n",
    "print(nucleus_df['Location'].unique())"
   ]
  },
  {
   "cell_type": "code",
   "execution_count": null,
   "metadata": {},
   "outputs": [],
   "source": [
    "order =['Sham', 'Contra', 'Ipsi']\n",
    "\n",
    "mean_ch3_intensity = nucleus_df.groupby(['Condition', 'ImageName', 'CellType'])['Ch3Intensity'].mean().reset_index()\n",
    "#mean_ch3_intensity = mean_ch3_intensity.drop([8,9,10,11])\n",
    "merged_ch3 = merged_df.groupby(['Condition','ImageName', 'CellType', 'g4Background'])['Ch3Intensity'].mean().reset_index()\n",
    "merged_ch3['BackgroundSubtracted'] = merged_ch3['Ch3Intensity'] - merged_ch3['g4Background']\n",
    "\n",
    "palette = sns.color_palette(['royalblue'], 2)\n",
    "merged_ch3 = merged_ch3.drop([8,9,10,11])\n",
    "print(merged_ch3)\n",
    "boxplot = sns.boxplot(data=merged_ch3, showfliers = False, x='Condition', y='BackgroundSubtracted', hue='CellType',order=order, palette='Set3')\n",
    "stripplot = sns.stripplot(data=merged_ch3, x='Condition', y='BackgroundSubtracted', order=order, dodge=True, hue='CellType', palette=palette, alpha=0.7)\n",
    "handles, labels = boxplot.get_legend_handles_labels()\n",
    "\n",
    "# Create custom legend\n",
    "plt.legend(handles=handles[:2], labels=labels[:2])\n",
    "plt.ylim([0,75])\n",
    "plt.ylabel('CTCF fluorescence')\n",
    "plt.savefig('plots/G4NeuronsBackgroundSubtracted.pdf')\n",
    "plt.show()"
   ]
  },
  {
   "cell_type": "code",
   "execution_count": null,
   "metadata": {},
   "outputs": [],
   "source": [
    "from scipy.stats import f_oneway\n",
    "from statsmodels.stats.multicomp import pairwise_tukeyhsd\n",
    "\n",
    "print(mean_ch3_intensity.keys())\n",
    "\n",
    "neun_positive_df = merged_ch3[merged_ch3['CellType'] == 'neunPositive']\n",
    "\n",
    "# Perform ANOVA test on filtered data\n",
    "anova_results = f_oneway(neun_positive_df[neun_positive_df['Condition'] == 'Contra']['Ch3Intensity'],\n",
    "                         neun_positive_df[neun_positive_df['Condition'] == 'Ipsi']['Ch3Intensity'],\n",
    "                         neun_positive_df[neun_positive_df['Condition'] == 'Sham']['Ch3Intensity'])\n",
    "\n",
    "# Perform Tukey HSD post hoc test\n",
    "tukey_results = pairwise_tukeyhsd(neun_positive_df['Ch3Intensity'], neun_positive_df['Condition'])\n",
    "\n",
    "print(\"ANOVA Results:\")\n",
    "print(\"F-statistic:\", anova_results.statistic)\n",
    "print(\"p-value:\", anova_results.pvalue)\n",
    "\n",
    "print(\"\\nTukey HSD Results:\")\n",
    "print(tukey_results)"
   ]
  }
 ],
 "metadata": {
  "kernelspec": {
   "display_name": "naparienv2",
   "language": "python",
   "name": "python3"
  },
  "language_info": {
   "codemirror_mode": {
    "name": "ipython",
    "version": 3
   },
   "file_extension": ".py",
   "mimetype": "text/x-python",
   "name": "python",
   "nbconvert_exporter": "python",
   "pygments_lexer": "ipython3",
   "version": "3.9.18"
  },
  "vscode": {
   "interpreter": {
    "hash": "42e6a65aaed901ceea65151505639f0cb2b61095480c1a584a8cc7fb0db430c9"
   }
  }
 },
 "nbformat": 4,
 "nbformat_minor": 2
}
