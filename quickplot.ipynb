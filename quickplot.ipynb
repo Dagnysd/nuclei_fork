{
 "cells": [
  {
   "cell_type": "code",
   "execution_count": 9,
   "metadata": {},
   "outputs": [
    {
     "name": "stdout",
     "output_type": "stream",
     "text": [
      "   Sample     Hemisphere  Non Neurons  Immature Neurons  Mature Neurons\n",
      "0      HI  Contralateral         3869              2313            1161\n",
      "1      HI  Contralateral         3883              1864            1099\n",
      "2      HI  Contralateral         4171              1948            1148\n",
      "3      HI  Contralateral         4010              1467             997\n",
      "4      HI  Contralateral         3889              1661            1230\n",
      "5      HI    Ipsilateral         5866              2314             582\n",
      "6      HI    Ipsilateral         4242              1734             377\n",
      "7      HI    Ipsilateral         4430              2037             575\n",
      "8      HI    Ipsilateral         4359              1769             531\n",
      "9      HI    Ipsilateral         4338              1796             176\n",
      "10     HI    Ipsilateral         3814              2012             256\n",
      "11   Sham           Sham         5467              2054            1295\n",
      "12   Sham           Sham         4019              1742            1122\n",
      "13   Sham           Sham         4252              1783             976\n",
      "14   Sham           Sham         4208              1716            1190\n",
      "15   Sham           Sham         3992              2011            1277\n",
      "16   Sham           Sham         3722              2146             852\n"
     ]
    }
   ],
   "source": [
    "import pandas as pd\n",
    "pd.set_option('display.width', 2000)\n",
    "data = {\n",
    "    'Sample': ['HI', 'HI', 'HI', 'HI', 'HI', 'HI', 'HI', 'HI', 'HI', 'HI', 'HI', 'Sham', 'Sham', 'Sham', 'Sham', 'Sham', 'Sham'],\n",
    "    'Hemisphere': ['Contralateral', 'Contralateral', 'Contralateral', 'Contralateral', 'Contralateral', 'Ipsilateral', 'Ipsilateral', 'Ipsilateral', 'Ipsilateral', 'Ipsilateral', 'Ipsilateral', 'Sham', 'Sham', 'Sham', 'Sham', 'Sham', 'Sham'],\n",
    "    'Non Neurons': [3869, 3883, 4171, 4010, 3889, 5866, 4242, 4430, 4359, 4338, 3814, 5467, 4019, 4252, 4208, 3992, 3722],\n",
    "    'Immature Neurons': [2313, 1864, 1948, 1467, 1661, 2314, 1734, 2037, 1769, 1796, 2012, 2054, 1742, 1783, 1716, 2011, 2146],\n",
    "    'Mature Neurons': [1161, 1099, 1148, 997, 1230, 582, 377, 575, 531, 176, 256, 1295, 1122, 976, 1190, 1277, 852]\n",
    "}\n",
    "\n",
    "df = pd.DataFrame(data)\n",
    "print(df)"
   ]
  },
  {
   "cell_type": "code",
   "execution_count": 11,
   "metadata": {},
   "outputs": [
    {
     "name": "stdout",
     "output_type": "stream",
     "text": [
      "      Hemisphere  Non Neurons Mean  Non Neurons Std  Immature Neurons Mean  Immature Neurons Std  Mature Neurons Mean  Mature Neurons Std\n",
      "0  Contralateral       3964.400000       128.622704            1850.600000            318.817032          1127.000000           86.443623\n",
      "1    Ipsilateral       4508.166667       700.534201            1943.666667            222.171705           416.166667          173.656462\n",
      "2           Sham       4276.666667       612.747800            1908.666667            183.636235          1118.666667          174.772614\n"
     ]
    }
   ],
   "source": [
    "grouped_df = df.groupby(['Sample', 'Hemisphere']).agg({'Non Neurons': ['mean', 'std'],\n",
    "                                                       'Immature Neurons': ['mean', 'std'],\n",
    "                                                       'Mature Neurons': ['mean', 'std']}).reset_index()\n",
    "\n",
    "grouped_df.columns = ['Sample', 'Hemisphere', 'Non Neurons Mean', 'Non Neurons Std', \n",
    "                      'Immature Neurons Mean', 'Immature Neurons Std', \n",
    "                      'Mature Neurons Mean', 'Mature Neurons Std']\n",
    "\n",
    "grouped_df = grouped_df.drop(columns='Sample')\n",
    "print(grouped_df)"
   ]
  }
 ],
 "metadata": {
  "kernelspec": {
   "display_name": "image_analysis",
   "language": "python",
   "name": "python3"
  },
  "language_info": {
   "codemirror_mode": {
    "name": "ipython",
    "version": 3
   },
   "file_extension": ".py",
   "mimetype": "text/x-python",
   "name": "python",
   "nbconvert_exporter": "python",
   "pygments_lexer": "ipython3",
   "version": "3.9.18"
  }
 },
 "nbformat": 4,
 "nbformat_minor": 2
}
