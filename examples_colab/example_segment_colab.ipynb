{
  "nbformat": 4,
  "nbformat_minor": 0,
  "metadata": {
    "colab": {
      "provenance": [],
      "gpuType": "V100",
      "machine_shape": "hm"
    },
    "kernelspec": {
      "name": "python3",
      "display_name": "Python 3"
    },
    "language_info": {
      "name": "python"
    },
    "accelerator": "GPU"
  },
  "cells": [
    {
      "cell_type": "markdown",
      "source": [
        "# Example: Train Stardist Model\n",
        "\n",
        "This example file shows how to segment images with the stardist model using a Google Colab runtime. Google Colab is optimized for using files saved to a Google Drive. The images to be segmented should therefore be uploaded to a Google Drive, and this file opened in a Google Colab runtime.\n",
        "\n",
        "## Setting up\n",
        "\n",
        "*   Install dependencies\n",
        "*   Mount Google Drive\n",
        "*   Import dependencies"
      ],
      "metadata": {
        "id": "TXzXAmprQdA3"
      }
    },
    {
      "cell_type": "code",
      "execution_count": null,
      "metadata": {
        "id": "_Xr8qiBYNbrj"
      },
      "outputs": [],
      "source": [
        "%pip install stardist\n",
        "%pip install czifile"
      ]
    },
    {
      "cell_type": "code",
      "source": [
        "from google.colab import drive\n",
        "drive.mount('/content/drive')"
      ],
      "metadata": {
        "id": "4AmkfuU1Nnig"
      },
      "execution_count": null,
      "outputs": []
    },
    {
      "cell_type": "code",
      "source": [
        "import numpy as np\n",
        "import os\n",
        "from skimage import io\n",
        "from stardist.models import StarDist3D\n",
        "from csbdeep.utils import normalize\n",
        "import glob\n",
        "import czifile"
      ],
      "metadata": {
        "id": "jrMkHKOQOkNB"
      },
      "execution_count": null,
      "outputs": []
    },
    {
      "cell_type": "markdown",
      "source": [
        "## Config\n",
        "\n",
        "Set up input and output paths and define segmentation function. The base directory of the model, as well as the file extension of the images to be segmented, to be used must also be defined"
      ],
      "metadata": {
        "id": "RyFo4nqeQ_gW"
      }
    },
    {
      "cell_type": "code",
      "source": [
        "input_path = \"/content/drive/path/to/images\"\n",
        "output_path =\"/content/drive/path/to/save\"\n",
        "model_path = '/content/drive/path/to//models'\n",
        "file_extension = \".czi\"\n",
        "\n",
        "image_files = glob.glob(f\"{folder_path}/*{file_extension}\")\n",
        "print(image_files)\n",
        "\n",
        "model = StarDist3D(None, name='Hippocampus9.1', basedir=model_path)\n",
        "\n",
        "def segment(img_path):\n",
        "    if '.czi' in img_path:\n",
        "      new_image = czifile.imread(img_path)\n",
        "      print(new_image.shape)\n",
        "      new_image = np.squeeze(new_image)\n",
        "      print(new_image.shape)\n",
        "\n",
        "    # Transpose the array to the desired shape\n",
        "      new_image = np.transpose(new_image, (1,2,3,0))\n",
        "      print(new_image.shape)\n",
        "    else:\n",
        "      new_image = io.imread(img_path)\n",
        "    if new_image.shape[-1] == 4:\n",
        "        normalized = normalize(new_image[:,:,:,3])\n",
        "    else:\n",
        "        normalized = normalize(new_image[:,:,:,2])\n",
        "\n",
        "    labels, _ = model.predict_instances(normalized, n_tiles=(10,10,4))\n",
        "\n",
        "    directory, filename = os.path.split(img_path)\n",
        "    without_extension, extension = os.path.splitext(filename)\n",
        "    mask_file_name = f\"{without_extension}_mask.tif\"\n",
        "    mask_path = os.path.join(output_path, mask_file_name)\n",
        "\n",
        "    io.imsave(mask_path, labels)\n"
      ],
      "metadata": {
        "id": "aobH0IRkPcpK"
      },
      "execution_count": null,
      "outputs": []
    },
    {
      "cell_type": "markdown",
      "source": [
        "## Segment"
      ],
      "metadata": {
        "id": "cpPDTL2_RwMh"
      }
    },
    {
      "cell_type": "code",
      "source": [
        "for image_path in image_files:\n",
        "    segment(image_path)"
      ],
      "metadata": {
        "id": "pE-TygLxQt3D"
      },
      "execution_count": null,
      "outputs": []
    }
  ]
}